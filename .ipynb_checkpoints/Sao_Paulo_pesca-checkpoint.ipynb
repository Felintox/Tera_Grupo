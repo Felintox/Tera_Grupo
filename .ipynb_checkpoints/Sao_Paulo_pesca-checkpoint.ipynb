{
 "cells": [
  {
   "cell_type": "code",
   "execution_count": 4,
   "metadata": {
    "id": "ZJSMh4J3LrUX"
   },
   "outputs": [],
   "source": [
    "import pandas as pd\n",
    "import numpy as np\n",
    "\n",
    "\n",
    "\n",
    "from numpy import where, unique\n",
    "from statistics import mode, mean\n",
    "import statsmodels.api as sm\n",
    "\n",
    "from matplotlib import cm\n",
    "import matplotlib.pyplot as plt\n",
    "from matplotlib import pyplot\n",
    "\n",
    "import seaborn as sns # contrução de gráficos\n",
    "from datetime import datetime # transformação de variáveis\n",
    "\n",
    "import plotly.express as px\n",
    "from plotly.subplots import make_subplots\n",
    "import plotly.graph_objects as go\n",
    "\n",
    "import matplotlib.pyplot as plt\n",
    "from yellowbrick.cluster import InterclusterDistance , KElbowVisualizer\n",
    "\n",
    "\n",
    "from sklearn.preprocessing import OneHotEncoder\n",
    "from sklearn.cluster import KMeans\n",
    "from sklearn.preprocessing import MinMaxScaler, RobustScaler\n",
    "from sklearn.metrics import davies_bouldin_score, calinski_harabasz_score, silhouette_score\n",
    "from sklearn.decomposition import PCA\n",
    "from sklearn.pipeline import Pipeline\n",
    "\n",
    "# Algumas opções do Pandas boas para vermos muitas linhas e colunas de uma vez\n",
    "\n",
    "import warnings\n",
    "warnings.filterwarnings('ignore')"
   ]
  },
  {
   "cell_type": "code",
   "execution_count": 5,
   "metadata": {
    "id": "e0CqlFsi6RFm"
   },
   "outputs": [],
   "source": [
    "dados_temperatura = pd.read_csv('temperatura_ilha.csv', sep = ',')"
   ]
  },
  {
   "cell_type": "code",
   "execution_count": 6,
   "metadata": {
    "colab": {
     "base_uri": "https://localhost:8080/"
    },
    "id": "D00RKppW6Yn8",
    "outputId": "6e249743-23b2-4d1f-98cf-ea67a4bcda7b"
   },
   "outputs": [
    {
     "name": "stdout",
     "output_type": "stream",
     "text": [
      "         Data  TEMP DO AR (º)  TEMP MAX (ºC)  TEMP MIN (ºC)\n",
      "0  2023-10-31          2700.0            NaN         2200.0\n",
      "1  2023-10-30          2300.0            NaN         1800.0\n",
      "2  2023-10-30          2400.0         3100.0            NaN\n",
      "3  2023-10-29          2700.0            NaN         2000.0\n",
      "4  2023-10-29          2600.0         2800.0            NaN\n",
      "5  2023-10-28          2400.0            NaN         2100.0\n",
      "6  2023-10-28          2300.0         1700.0            NaN\n",
      "7  2023-10-27          2200.0            NaN         1800.0\n",
      "8  2023-10-27          2100.0         2500.0            NaN\n",
      "9  2023-10-26          2200.0            NaN         2000.0\n"
     ]
    }
   ],
   "source": [
    "print(dados_temperatura.head(10))"
   ]
  },
  {
   "cell_type": "code",
   "execution_count": 7,
   "metadata": {
    "colab": {
     "base_uri": "https://localhost:8080/"
    },
    "id": "nAZC9MNSKXRa",
    "outputId": "f6d2bb1d-8146-4092-89ab-109444486668"
   },
   "outputs": [
    {
     "name": "stdout",
     "output_type": "stream",
     "text": [
      "Valores Máximos:\n",
      "TEMP DO AR (º)    3300.0\n",
      "TEMP MAX (ºC)     4100.0\n",
      "TEMP MIN (ºC)     3200.0\n",
      "dtype: float64\n",
      "\n",
      "Valores Mínimos:\n",
      "TEMP DO AR (º)    1290.0\n",
      "TEMP MAX (ºC)     1700.0\n",
      "TEMP MIN (ºC)     1300.0\n",
      "dtype: float64\n"
     ]
    }
   ],
   "source": [
    "# Encontre o valor máximo de cada coluna\n",
    "maximos = dados_temperatura.max()\n",
    "\n",
    "# Encontre o valor mínimo de cada coluna\n",
    "minimos = dados_temperatura.min()\n",
    "\n",
    "# O resultado será uma série pandas com os valores máximos e mínimos para cada coluna\n",
    "print(\"Valores Máximos:\")\n",
    "print(maximos)\n",
    "\n",
    "print(\"\\nValores Mínimos:\")\n",
    "print(minimos)"
   ]
  },
  {
   "cell_type": "code",
   "execution_count": 8,
   "metadata": {
    "colab": {
     "base_uri": "https://localhost:8080/"
    },
    "id": "eOtm0QlGKlUv",
    "outputId": "a79a0e96-f4ac-4636-ac82-d99e84142115"
   },
   "outputs": [
    {
     "name": "stdout",
     "output_type": "stream",
     "text": [
      "         Data  TEMP DO AR (º)  TEMP MAX (ºC)  TEMP MIN (ºC)\n",
      "0  2023-10-31          2700.0         2800.0         2200.0\n",
      "1  2023-10-30          2300.0         2800.0         1800.0\n",
      "2  2023-10-30          2400.0         3100.0         2100.0\n",
      "3  2023-10-29          2700.0         2800.0         2000.0\n",
      "4  2023-10-29          2600.0         2800.0         2100.0\n",
      "5  2023-10-28          2400.0         2800.0         2100.0\n",
      "6  2023-10-28          2300.0         1700.0         2100.0\n",
      "7  2023-10-27          2200.0         2800.0         1800.0\n",
      "8  2023-10-27          2100.0         2500.0         2100.0\n",
      "9  2023-10-26          2200.0         2800.0         2000.0\n"
     ]
    }
   ],
   "source": [
    "# Preencher valores ausentes com a mediana de cada coluna\n",
    "dados_temperatura['TEMP DO AR (º)'].fillna(dados_temperatura['TEMP DO AR (º)'].median(), inplace=True)\n",
    "dados_temperatura['TEMP MAX (ºC)'].fillna(dados_temperatura['TEMP MAX (ºC)'].median(), inplace=True)\n",
    "dados_temperatura['TEMP MIN (ºC)'].fillna(dados_temperatura['TEMP MIN (ºC)'].median(), inplace=True)\n",
    "\n",
    "# Resultado\n",
    "print(dados_temperatura.head(10))"
   ]
  },
  {
   "cell_type": "code",
   "execution_count": 9,
   "metadata": {
    "colab": {
     "base_uri": "https://localhost:8080/"
    },
    "id": "XYxXVmJwK5qP",
    "outputId": "c99617bc-67d5-4b43-c2b8-4fb1afdbc34e"
   },
   "outputs": [
    {
     "name": "stdout",
     "output_type": "stream",
     "text": [
      "Valores Máximos:\n",
      "TEMP DO AR (º)    3300.0\n",
      "TEMP MAX (ºC)     4100.0\n",
      "TEMP MIN (ºC)     3200.0\n",
      "dtype: float64\n",
      "\n",
      "Valores Mínimos:\n",
      "TEMP DO AR (º)    1290.0\n",
      "TEMP MAX (ºC)     1700.0\n",
      "TEMP MIN (ºC)     1300.0\n",
      "dtype: float64\n"
     ]
    }
   ],
   "source": [
    "# Encontre o valor máximo de cada coluna\n",
    "maximos = dados_temperatura.max()\n",
    "\n",
    "# Encontre o valor mínimo de cada coluna\n",
    "minimos = dados_temperatura.min()\n",
    "\n",
    "# O resultado será uma série pandas com os valores máximos e mínimos para cada coluna\n",
    "print(\"Valores Máximos:\")\n",
    "print(maximos)\n",
    "\n",
    "print(\"\\nValores Mínimos:\")\n",
    "print(minimos)"
   ]
  },
  {
   "cell_type": "code",
   "execution_count": 10,
   "metadata": {
    "colab": {
     "base_uri": "https://localhost:8080/"
    },
    "id": "M5XVlmeVLf9h",
    "outputId": "49ec9bc3-d2fe-4aae-972a-5b1966a16153"
   },
   "outputs": [
    {
     "name": "stdout",
     "output_type": "stream",
     "text": [
      "<class 'pandas.core.frame.DataFrame'>\n",
      "RangeIndex: 3177 entries, 0 to 3176\n",
      "Data columns (total 4 columns):\n",
      " #   Column          Non-Null Count  Dtype  \n",
      "---  ------          --------------  -----  \n",
      " 0   Data            3159 non-null   object \n",
      " 1   TEMP DO AR (º)  3177 non-null   float64\n",
      " 2   TEMP MAX (ºC)   3177 non-null   float64\n",
      " 3   TEMP MIN (ºC)   3177 non-null   float64\n",
      "dtypes: float64(3), object(1)\n",
      "memory usage: 99.4+ KB\n"
     ]
    }
   ],
   "source": [
    "dados_temperatura.info()"
   ]
  },
  {
   "cell_type": "code",
   "execution_count": 11,
   "metadata": {
    "colab": {
     "base_uri": "https://localhost:8080/"
    },
    "id": "50iJE-BMLwg6",
    "outputId": "a2f417be-22c9-477c-c8cd-5303be788222"
   },
   "outputs": [
    {
     "data": {
      "text/plain": [
       "Data              18\n",
       "TEMP DO AR (º)     0\n",
       "TEMP MAX (ºC)      0\n",
       "TEMP MIN (ºC)      0\n",
       "dtype: int64"
      ]
     },
     "execution_count": 11,
     "metadata": {},
     "output_type": "execute_result"
    }
   ],
   "source": [
    "# Procurando valores nulos nos dados de temperatura\n",
    "dados_temperatura.isna().sum().sort_values(ascending=False)"
   ]
  },
  {
   "cell_type": "code",
   "execution_count": 12,
   "metadata": {
    "colab": {
     "base_uri": "https://localhost:8080/"
    },
    "id": "R_wY1ld0MrLQ",
    "outputId": "14353907-6b56-4e0a-8412-df4034a1307f"
   },
   "outputs": [
    {
     "name": "stdout",
     "output_type": "stream",
     "text": [
      "      TEMP DO AR (º)  TEMP MAX (ºC)  TEMP MIN (ºC)     Ano   Mês   Dia\n",
      "0             2700.0         2800.0         2200.0  2023.0  10.0  31.0\n",
      "1             2300.0         2800.0         1800.0  2023.0  10.0  30.0\n",
      "2             2400.0         3100.0         2100.0  2023.0  10.0  30.0\n",
      "3             2700.0         2800.0         2000.0  2023.0  10.0  29.0\n",
      "4             2600.0         2800.0         2100.0  2023.0  10.0  29.0\n",
      "...              ...            ...            ...     ...   ...   ...\n",
      "3172          2100.0         2400.0         2100.0  2017.0   1.0  10.0\n",
      "3173          2100.0         2400.0         2100.0     NaN   NaN   NaN\n",
      "3174          2100.0         2400.0         2100.0     NaN   NaN   NaN\n",
      "3175          1900.0         2900.0         2100.0     NaN   NaN   NaN\n",
      "3176          1900.0         2900.0         2100.0     NaN   NaN   NaN\n",
      "\n",
      "[3177 rows x 6 columns]\n"
     ]
    }
   ],
   "source": [
    "df = pd.DataFrame(dados_temperatura)\n",
    "\n",
    "# Transformar a coluna \"Data\" em um objeto DateTime\n",
    "df['Data'] = pd.to_datetime(df['Data'])\n",
    "\n",
    "# Extrair as colunas de Ano, Mês e Dia\n",
    "df['Ano'] = df['Data'].dt.year\n",
    "df['Mês'] = df['Data'].dt.month\n",
    "df['Dia'] = df['Data'].dt.day\n",
    "\n",
    "# Descartar a coluna \"Data\" se desejar\n",
    "df.drop(columns=['Data'], inplace=True)\n",
    "\n",
    "# Resultado\n",
    "print(df)"
   ]
  },
  {
   "cell_type": "code",
   "execution_count": 13,
   "metadata": {
    "colab": {
     "base_uri": "https://localhost:8080/"
    },
    "id": "9t1VJAhTV5I5",
    "outputId": "6e04d31f-7351-4728-ed64-eb34c7dd485a"
   },
   "outputs": [
    {
     "name": "stdout",
     "output_type": "stream",
     "text": [
      "   TEMP DO AR (º)  TEMP MAX (ºC)  TEMP MIN (ºC)     Ano   Mês   Dia\n",
      "0          2700.0         2800.0         2200.0  2023.0  10.0  31.0\n",
      "1          2300.0         2800.0         1800.0  2023.0  10.0  30.0\n",
      "2          2400.0         3100.0         2100.0  2023.0  10.0  30.0\n",
      "3          2700.0         2800.0         2000.0  2023.0  10.0  29.0\n",
      "4          2600.0         2800.0         2100.0  2023.0  10.0  29.0\n",
      "5          2400.0         2800.0         2100.0  2023.0  10.0  28.0\n",
      "6          2300.0         1700.0         2100.0  2023.0  10.0  28.0\n",
      "7          2200.0         2800.0         1800.0  2023.0  10.0  27.0\n",
      "8          2100.0         2500.0         2100.0  2023.0  10.0  27.0\n",
      "9          2200.0         2800.0         2000.0  2023.0  10.0  26.0\n"
     ]
    }
   ],
   "source": [
    "df = df.dropna(subset=['Ano', 'Mês', 'Dia'])\n",
    "print(df.head(10))"
   ]
  },
  {
   "cell_type": "code",
   "execution_count": 14,
   "metadata": {
    "colab": {
     "base_uri": "https://localhost:8080/",
     "height": 300
    },
    "id": "quJo6-nG_Oai",
    "outputId": "3c8e3a34-966d-4846-8860-998f35e3ed87"
   },
   "outputs": [
    {
     "data": {
      "text/html": [
       "<div>\n",
       "<style scoped>\n",
       "    .dataframe tbody tr th:only-of-type {\n",
       "        vertical-align: middle;\n",
       "    }\n",
       "\n",
       "    .dataframe tbody tr th {\n",
       "        vertical-align: top;\n",
       "    }\n",
       "\n",
       "    .dataframe thead th {\n",
       "        text-align: right;\n",
       "    }\n",
       "</style>\n",
       "<table border=\"1\" class=\"dataframe\">\n",
       "  <thead>\n",
       "    <tr style=\"text-align: right;\">\n",
       "      <th></th>\n",
       "      <th>TEMP DO AR (º)</th>\n",
       "      <th>TEMP MAX (ºC)</th>\n",
       "      <th>TEMP MIN (ºC)</th>\n",
       "      <th>Ano</th>\n",
       "      <th>Mês</th>\n",
       "      <th>Dia</th>\n",
       "    </tr>\n",
       "  </thead>\n",
       "  <tbody>\n",
       "    <tr>\n",
       "      <th>count</th>\n",
       "      <td>3159.000000</td>\n",
       "      <td>3159.000000</td>\n",
       "      <td>3159.000000</td>\n",
       "      <td>3159.000000</td>\n",
       "      <td>3159.000000</td>\n",
       "      <td>3159.000000</td>\n",
       "    </tr>\n",
       "    <tr>\n",
       "      <th>mean</th>\n",
       "      <td>2376.669832</td>\n",
       "      <td>2791.136436</td>\n",
       "      <td>2108.863564</td>\n",
       "      <td>2020.248813</td>\n",
       "      <td>6.414688</td>\n",
       "      <td>15.785375</td>\n",
       "    </tr>\n",
       "    <tr>\n",
       "      <th>std</th>\n",
       "      <td>266.698060</td>\n",
       "      <td>259.451985</td>\n",
       "      <td>177.018102</td>\n",
       "      <td>1.793701</td>\n",
       "      <td>3.535523</td>\n",
       "      <td>8.851861</td>\n",
       "    </tr>\n",
       "    <tr>\n",
       "      <th>min</th>\n",
       "      <td>1290.000000</td>\n",
       "      <td>1700.000000</td>\n",
       "      <td>1300.000000</td>\n",
       "      <td>2017.000000</td>\n",
       "      <td>1.000000</td>\n",
       "      <td>1.000000</td>\n",
       "    </tr>\n",
       "    <tr>\n",
       "      <th>25%</th>\n",
       "      <td>2200.000000</td>\n",
       "      <td>2800.000000</td>\n",
       "      <td>2100.000000</td>\n",
       "      <td>2019.000000</td>\n",
       "      <td>3.000000</td>\n",
       "      <td>8.000000</td>\n",
       "    </tr>\n",
       "    <tr>\n",
       "      <th>50%</th>\n",
       "      <td>2400.000000</td>\n",
       "      <td>2800.000000</td>\n",
       "      <td>2100.000000</td>\n",
       "      <td>2020.000000</td>\n",
       "      <td>6.000000</td>\n",
       "      <td>16.000000</td>\n",
       "    </tr>\n",
       "    <tr>\n",
       "      <th>75%</th>\n",
       "      <td>2600.000000</td>\n",
       "      <td>2800.000000</td>\n",
       "      <td>2100.000000</td>\n",
       "      <td>2022.000000</td>\n",
       "      <td>10.000000</td>\n",
       "      <td>23.000000</td>\n",
       "    </tr>\n",
       "    <tr>\n",
       "      <th>max</th>\n",
       "      <td>3300.000000</td>\n",
       "      <td>4100.000000</td>\n",
       "      <td>3200.000000</td>\n",
       "      <td>2023.000000</td>\n",
       "      <td>12.000000</td>\n",
       "      <td>31.000000</td>\n",
       "    </tr>\n",
       "  </tbody>\n",
       "</table>\n",
       "</div>"
      ],
      "text/plain": [
       "       TEMP DO AR (º)  TEMP MAX (ºC)  TEMP MIN (ºC)          Ano          Mês  \\\n",
       "count     3159.000000    3159.000000    3159.000000  3159.000000  3159.000000   \n",
       "mean      2376.669832    2791.136436    2108.863564  2020.248813     6.414688   \n",
       "std        266.698060     259.451985     177.018102     1.793701     3.535523   \n",
       "min       1290.000000    1700.000000    1300.000000  2017.000000     1.000000   \n",
       "25%       2200.000000    2800.000000    2100.000000  2019.000000     3.000000   \n",
       "50%       2400.000000    2800.000000    2100.000000  2020.000000     6.000000   \n",
       "75%       2600.000000    2800.000000    2100.000000  2022.000000    10.000000   \n",
       "max       3300.000000    4100.000000    3200.000000  2023.000000    12.000000   \n",
       "\n",
       "               Dia  \n",
       "count  3159.000000  \n",
       "mean     15.785375  \n",
       "std       8.851861  \n",
       "min       1.000000  \n",
       "25%       8.000000  \n",
       "50%      16.000000  \n",
       "75%      23.000000  \n",
       "max      31.000000  "
      ]
     },
     "execution_count": 14,
     "metadata": {},
     "output_type": "execute_result"
    }
   ],
   "source": [
    "# Estatísticas dos dados de temperatura\n",
    "df.describe()"
   ]
  },
  {
   "cell_type": "code",
   "execution_count": 15,
   "metadata": {
    "colab": {
     "base_uri": "https://localhost:8080/",
     "height": 595
    },
    "id": "v1LvAisbvfXJ",
    "outputId": "1e2742f8-519c-454a-904b-77359ba6f6ed"
   },
   "outputs": [
    {
     "data": {
      "image/png": "[encoded data removed]",
      "text/plain": [
       "<Figure size 1000x600 with 1 Axes>"
      ]
     },
     "metadata": {},
     "output_type": "display_data"
    }
   ],
   "source": [
    "import matplotlib.pyplot as plt\n",
    "\n",
    "# Agrupe os dados por 'Ano_x' e calcule a média da temperatura máxima em cada ano\n",
    "temperatura_media_por_ano = df.groupby('Ano')['TEMP MAX (ºC)'].mean()\n",
    "\n",
    "# Crie um gráfico de barras\n",
    "plt.figure(figsize=(10, 6))\n",
    "temperatura_media_por_ano.plot(kind='bar', color='skyblue')\n",
    "plt.title('Temperatura Média Máxima por Ano')\n",
    "plt.xlabel('Ano')\n",
    "plt.ylabel('Temperatura Média Máxima (ºC)')\n",
    "plt.xticks(rotation=45)  # Rotaciona os rótulos do eixo x para facilitar a leitura\n",
    "\n",
    "plt.show()\n"
   ]
  },
  {
   "cell_type": "code",
   "execution_count": null,
   "metadata": {
    "id": "batuw-Hg85Vw"
   },
   "outputs": [],
   "source": []
  },
  {
   "cell_type": "code",
   "execution_count": 16,
   "metadata": {
    "colab": {
     "base_uri": "https://localhost:8080/",
     "height": 449
    },
    "id": "zci01AgQN98M",
    "outputId": "68897d9b-0b1c-4d6b-f3b0-7b9c71949fc9"
   },
   "outputs": [
    {
     "ename": "NameError",
     "evalue": "name '_df_4' is not defined",
     "output_type": "error",
     "traceback": [
      "\u001b[1;31m---------------------------------------------------------------------------\u001b[0m",
      "\u001b[1;31mNameError\u001b[0m                                 Traceback (most recent call last)",
      "\u001b[1;32m~\\AppData\\Local\\Temp\\ipykernel_3764\\1166001783.py\u001b[0m in \u001b[0;36m<module>\u001b[1;34m\u001b[0m\n\u001b[0;32m      1\u001b[0m \u001b[1;32mfrom\u001b[0m \u001b[0mmatplotlib\u001b[0m \u001b[1;32mimport\u001b[0m \u001b[0mpyplot\u001b[0m \u001b[1;32mas\u001b[0m \u001b[0mplt\u001b[0m\u001b[1;33m\u001b[0m\u001b[1;33m\u001b[0m\u001b[0m\n\u001b[1;32m----> 2\u001b[1;33m \u001b[0m_df_4\u001b[0m\u001b[1;33m.\u001b[0m\u001b[0mplot\u001b[0m\u001b[1;33m(\u001b[0m\u001b[0mkind\u001b[0m\u001b[1;33m=\u001b[0m\u001b[1;34m'scatter'\u001b[0m\u001b[1;33m,\u001b[0m \u001b[0mx\u001b[0m\u001b[1;33m=\u001b[0m\u001b[1;34m'TEMP MAX (ºC)'\u001b[0m\u001b[1;33m,\u001b[0m \u001b[0my\u001b[0m\u001b[1;33m=\u001b[0m\u001b[1;34m'TEMP MIN (ºC)'\u001b[0m\u001b[1;33m,\u001b[0m \u001b[0ms\u001b[0m\u001b[1;33m=\u001b[0m\u001b[1;36m32\u001b[0m\u001b[1;33m,\u001b[0m \u001b[0malpha\u001b[0m\u001b[1;33m=\u001b[0m\u001b[1;36m.8\u001b[0m\u001b[1;33m)\u001b[0m\u001b[1;33m\u001b[0m\u001b[1;33m\u001b[0m\u001b[0m\n\u001b[0m\u001b[0;32m      3\u001b[0m \u001b[0mplt\u001b[0m\u001b[1;33m.\u001b[0m\u001b[0mgca\u001b[0m\u001b[1;33m(\u001b[0m\u001b[1;33m)\u001b[0m\u001b[1;33m.\u001b[0m\u001b[0mspines\u001b[0m\u001b[1;33m[\u001b[0m\u001b[1;33m[\u001b[0m\u001b[1;34m'top'\u001b[0m\u001b[1;33m,\u001b[0m \u001b[1;34m'right'\u001b[0m\u001b[1;33m,\u001b[0m\u001b[1;33m]\u001b[0m\u001b[1;33m]\u001b[0m\u001b[1;33m.\u001b[0m\u001b[0mset_visible\u001b[0m\u001b[1;33m(\u001b[0m\u001b[1;32mFalse\u001b[0m\u001b[1;33m)\u001b[0m\u001b[1;33m\u001b[0m\u001b[1;33m\u001b[0m\u001b[0m\n",
      "\u001b[1;31mNameError\u001b[0m: name '_df_4' is not defined"
     ]
    }
   ],
   "source": [
    "from matplotlib import pyplot as plt\n",
    "_df_4.plot(kind='scatter', x='TEMP MAX (ºC)', y='TEMP MIN (ºC)', s=32, alpha=.8)\n",
    "plt.gca().spines[['top', 'right',]].set_visible(False)"
   ]
  },
  {
   "cell_type": "code",
   "execution_count": null,
   "metadata": {
    "colab": {
     "base_uri": "https://localhost:8080/",
     "height": 391
    },
    "id": "pmLhfQGkN5tk",
    "outputId": "a3ca6571-e26e-42dd-9c32-009b27fbed67"
   },
   "outputs": [],
   "source": [
    "from matplotlib import pyplot as plt\n",
    "_df_6['TEMP MAX (ºC)'].plot(kind='line', figsize=(8, 4), title='TEMP MAX (ºC)')\n",
    "plt.gca().spines[['top', 'right']].set_visible(False)"
   ]
  },
  {
   "cell_type": "code",
   "execution_count": null,
   "metadata": {
    "colab": {
     "base_uri": "https://localhost:8080/",
     "height": 452
    },
    "id": "CQmz6InSNyFz",
    "outputId": "d6c888c5-77b1-47df-fe81-2c42e746bd6b"
   },
   "outputs": [],
   "source": [
    "from matplotlib import pyplot as plt\n",
    "_df_0['TEMP DO AR (º)'].plot(kind='hist', bins=20, title='TEMP DO AR (º)')\n",
    "plt.gca().spines[['top', 'right',]].set_visible(False)"
   ]
  },
  {
   "cell_type": "code",
   "execution_count": null,
   "metadata": {
    "id": "O7oA0wKIRkn7"
   },
   "outputs": [],
   "source": [
    "pescado = pd.read_csv('pescado1.csv', sep = ',')"
   ]
  },
  {
   "cell_type": "code",
   "execution_count": null,
   "metadata": {
    "colab": {
     "base_uri": "https://localhost:8080/"
    },
    "id": "4dz_0JJERzdc",
    "outputId": "188a2c94-14ad-4139-ed28-e9798063534d"
   },
   "outputs": [],
   "source": [
    "\n",
    "\n",
    "print(pescado.head(10))\n"
   ]
  },
  {
   "cell_type": "code",
   "execution_count": null,
   "metadata": {
    "colab": {
     "base_uri": "https://localhost:8080/"
    },
    "id": "-AZTtNLeSu_O",
    "outputId": "eaa8fcae-3b53-49f2-99aa-82a0f448d545"
   },
   "outputs": [],
   "source": [
    "import pandas as pd\n",
    "\n",
    "# DataFrame de exemplo\n",
    "data = {\n",
    "    'Ano': [2017, 2017, 2017, 2017, 2017, 2017, 2017, 2017, 2017, 2017],\n",
    "    'Mês': [1, 1, 1, 1, 1, 1, 1, 1, 1, 1],\n",
    "    'Município': ['Santos/Guarujá', 'Santos/Guarujá', 'Santos/Guarujá', 'Santos/Guarujá', 'Santos/Guarujá', 'Santos/Guarujá', 'Santos/Guarujá', 'Santos/Guarujá', 'Santos/Guarujá', 'Santos/Guarujá'],\n",
    "    'Pescado': ['Abrótea', 'Anequim', 'Atuns agrupados', 'Bagre', 'Bagre-amarelo', 'Bagre-branco', 'Bagre-branco', 'Betara', 'Betara', 'Bicuda'],\n",
    "    'Tipo de Pesca': ['Industrial', 'Industrial', 'Industrial', 'Industrial', 'Artesanal', 'Artesanal', 'Industrial', 'Artesanal', 'Industrial', 'Industrial'],\n",
    "    'valor estimado no período': ['R$ 785,10', 'R$ 15.000,00', 'R$ 1.170,00', 'R$ 1.128,00', 'R$ 38,00', 'R$ 105,00', 'R$ 3.418,43', 'R$ 794,45', 'R$ 54.764,63', 'R$ 130,00']\n",
    "}\n",
    "\n",
    "pescado = pd.DataFrame(data)\n",
    "\n",
    "# Função para converter valores monetários em float\n",
    "def monetario_para_float(valor_monetario):\n",
    "    try:\n",
    "        # Remove caracteres não numéricos\n",
    "        valor_limpo = valor_monetario.replace('R$', '').replace('.', '').replace(',', '.').strip()\n",
    "        # Converte para float\n",
    "        valor_float = float(valor_limpo)\n",
    "        return valor_float\n",
    "    except ValueError:\n",
    "        return None  # Retorne None se houver um erro na conversão\n",
    "\n",
    "# Aplicar a função à coluna 'valor estimado no período' do DataFrame 'pescado'\n",
    "pescado['valor estimado no período'] = pescado['valor estimado no período'].apply(monetario_para_float)\n",
    "\n",
    "# Imprimir o DataFrame com os valores convertidos\n",
    "print(pescado)\n"
   ]
  },
  {
   "cell_type": "code",
   "execution_count": null,
   "metadata": {
    "colab": {
     "base_uri": "https://localhost:8080/"
    },
    "id": "RmMbJhtATGIF",
    "outputId": "61b3fdde-93b7-444e-87a1-b9d13fece0c3"
   },
   "outputs": [],
   "source": [
    "pescado = pescado.drop(columns=['Município'])\n",
    "print(pescado.head(10))"
   ]
  },
  {
   "cell_type": "code",
   "execution_count": null,
   "metadata": {
    "colab": {
     "base_uri": "https://localhost:8080/"
    },
    "id": "WxIU0FoGS9cl",
    "outputId": "7d92c00c-4c1f-4967-bb6b-09bb47952583"
   },
   "outputs": [],
   "source": [
    "# Converta a coluna 'Ano' do DataFrame 'temperatura_pesca' para o tipo 'object'\n",
    "pescado['Ano'] = pescado['Ano'].astype(str)\n",
    "\n",
    "pescado['Mês'] = pescado['Mês'].astype(str)\n",
    "\n",
    "print(pescado.head(10))"
   ]
  },
  {
   "cell_type": "code",
   "execution_count": null,
   "metadata": {
    "colab": {
     "base_uri": "https://localhost:8080/"
    },
    "id": "BDDgTnAsnkbY",
    "outputId": "4f55ebc1-589c-4138-b569-3a430b0fea1b"
   },
   "outputs": [],
   "source": [
    "# Para df1\n",
    "df['sequencial'] = range(1, len(df) + 1)\n",
    "\n",
    "# Para df2\n",
    "pescado['sequencial'] = range(1, len(pescado) + 1)\n",
    "\n",
    "# Una os DataFrames com base na coluna 'sequencial'\n",
    "dados_unificados = df.merge(pescado, on='sequencial', how='inner')\n",
    "\n",
    "# Remova a coluna 'sequencial' se desejar\n",
    "dados_unificados.drop(['sequencial'], axis=1, inplace=True)\n",
    "print(dados_unificados.head(10))"
   ]
  },
  {
   "cell_type": "code",
   "execution_count": null,
   "metadata": {
    "colab": {
     "base_uri": "https://localhost:8080/",
     "height": 472
    },
    "id": "zlk-60gz8-Gf",
    "outputId": "099e7972-2350-4e60-f26b-70ef76113892"
   },
   "outputs": [],
   "source": [
    "import matplotlib.pyplot as plt\n",
    "\n",
    "# Exemplo de histograma para a coluna 'TEMP DO AR (º)'\n",
    "dados_unificados['TEMP DO AR (º)'].plot(kind='hist', bins=20)\n",
    "plt.title('Histograma da Temperatura do Ar')\n",
    "plt.xlabel('Temperatura do Ar (ºC)')\n",
    "plt.ylabel('Frequência')\n",
    "plt.show()"
   ]
  },
  {
   "cell_type": "code",
   "execution_count": null,
   "metadata": {
    "colab": {
     "base_uri": "https://localhost:8080/",
     "height": 472
    },
    "id": "zlv6vSEb9KbA",
    "outputId": "47a44cc3-3f83-4fa4-d851-c900f6e9f9f0"
   },
   "outputs": [],
   "source": [
    "import seaborn as sns\n",
    "\n",
    "# Exemplo de gráfico de caixa para a coluna 'TEMP DO AR (º)'\n",
    "sns.boxplot(data= dados_unificados, x='TEMP MAX (ºC)')\n",
    "plt.title('Gráfico de Caixa da Temperatura Máxima')\n",
    "plt.xlabel('TEMP MAX (ºC)')\n",
    "plt.show()"
   ]
  },
  {
   "cell_type": "code",
   "execution_count": null,
   "metadata": {
    "colab": {
     "base_uri": "https://localhost:8080/",
     "height": 565
    },
    "id": "3hwlKI0V-zGb",
    "outputId": "3a38972f-a6e7-4815-815d-edc1b28a8f3b"
   },
   "outputs": [],
   "source": [
    "# Filtrar as colunas de interesse\n",
    "temperatura_do_ar = dados_unificados['TEMP DO AR (º)'].dropna()\n",
    "temperatura_maxima = dados_unificados['TEMP MAX (ºC)'].dropna()\n",
    "\n",
    "# Criar o histograma\n",
    "plt.figure(figsize=(10, 6))  # Defina o tamanho do gráfico conforme necessário\n",
    "plt.hist(temperatura_do_ar, bins=30, alpha=0.5, label='Temperatura do Ar')\n",
    "plt.hist(temperatura_maxima, bins=30, alpha=0.5, label='Temperatura Máxima')\n",
    "plt.title('Distribuição de Temperatura do Ar e Temperatura Máxima')\n",
    "plt.xlabel('Temperatura (ºC)')\n",
    "plt.ylabel('Frequência')\n",
    "plt.legend()\n",
    "\n",
    "# Exibir o histograma\n",
    "plt.show()"
   ]
  },
  {
   "cell_type": "code",
   "execution_count": null,
   "metadata": {
    "colab": {
     "base_uri": "https://localhost:8080/",
     "height": 564
    },
    "id": "TaDZWmA4-8dF",
    "outputId": "635fda93-5be9-46fd-bf31-41e47d15e770"
   },
   "outputs": [],
   "source": [
    "# Filtrar as colunas de interesse\n",
    "temperatura_do_ar = dados_unificados['valor estimado no período'].dropna()\n",
    "temperatura_maxima = dados_unificados['Ano_y'].dropna()\n",
    "\n",
    "# Criar o histograma\n",
    "plt.figure(figsize=(10, 6))  # Defina o tamanho do gráfico conforme necessário\n",
    "plt.hist(temperatura_do_ar, bins=30, alpha=0.5, label='valor estimado')\n",
    "plt.hist(temperatura_maxima, bins=30, alpha=0.5, label='Ano_y')\n",
    "plt.title('Valor e Ano')\n",
    "plt.xlabel('Ano')\n",
    "plt.ylabel('Valor')\n",
    "plt.legend()\n",
    "\n",
    "# Exibir o histograma\n",
    "plt.show()"
   ]
  },
  {
   "cell_type": "code",
   "execution_count": null,
   "metadata": {
    "colab": {
     "base_uri": "https://localhost:8080/",
     "height": 772
    },
    "id": "XGYHAm9NqNKb",
    "outputId": "02606dbe-87d4-4e8e-97bb-9c2b7da21ebd"
   },
   "outputs": [],
   "source": [
    "dados_unificados.describe()"
   ]
  },
  {
   "cell_type": "code",
   "execution_count": null,
   "metadata": {
    "colab": {
     "base_uri": "https://localhost:8080/",
     "height": 453
    },
    "id": "NSWht-snsQxQ",
    "outputId": "eb72daaf-d94f-485d-fe35-e9f3b29afb6e"
   },
   "outputs": [],
   "source": [
    "from matplotlib import pyplot as plt\n",
    "_df_11['valor estimado no período'].plot(kind='hist', bins=20, title='valor estimado no período')\n",
    "plt.gca().spines[['top', 'right',]].set_visible(False)"
   ]
  },
  {
   "cell_type": "code",
   "execution_count": null,
   "metadata": {
    "colab": {
     "base_uri": "https://localhost:8080/",
     "height": 452
    },
    "id": "vcVZ6BGUsNc_",
    "outputId": "eef84c20-f7f7-455e-a158-3e5e25c1e693"
   },
   "outputs": [],
   "source": [
    "from matplotlib import pyplot as plt\n",
    "_df_9['TEMP MAX (ºC)'].plot(kind='hist', bins=20, title='TEMP MAX (ºC)')\n",
    "plt.gca().spines[['top', 'right',]].set_visible(False)"
   ]
  },
  {
   "cell_type": "code",
   "execution_count": null,
   "metadata": {
    "colab": {
     "base_uri": "https://localhost:8080/",
     "height": 452
    },
    "id": "jZAchLZPsI5U",
    "outputId": "a4f84670-03e5-48e4-bef6-bb421f3f23de"
   },
   "outputs": [],
   "source": [
    "from matplotlib import pyplot as plt\n",
    "_df_8['TEMP DO AR (º)'].plot(kind='hist', bins=20, title='TEMP DO AR (º)')\n",
    "plt.gca().spines[['top', 'right',]].set_visible(False)"
   ]
  },
  {
   "cell_type": "code",
   "execution_count": null,
   "metadata": {
    "colab": {
     "base_uri": "https://localhost:8080/",
     "height": 449
    },
    "id": "9u2WK6bXqk8B",
    "outputId": "2281b855-66c8-4f59-b36f-b0e84dc6de19"
   },
   "outputs": [],
   "source": [
    "from matplotlib import pyplot as plt\n",
    "_df_12.plot(kind='scatter', x='TEMP DO AR (º)', y='TEMP MAX (ºC)', s=32, alpha=.8)\n",
    "plt.gca().spines[['top', 'right',]].set_visible(False)"
   ]
  },
  {
   "cell_type": "code",
   "execution_count": null,
   "metadata": {
    "colab": {
     "base_uri": "https://localhost:8080/",
     "height": 449
    },
    "id": "h9f8WOqwqiVp",
    "outputId": "4acc871c-db5a-45b6-bf35-0fa0b8ded346"
   },
   "outputs": [],
   "source": [
    "from matplotlib import pyplot as plt\n",
    "_df_13.plot(kind='scatter', x='TEMP MAX (ºC)', y='valor estimado no período', s=32, alpha=.8)\n",
    "plt.gca().spines[['top', 'right',]].set_visible(False)"
   ]
  },
  {
   "cell_type": "code",
   "execution_count": null,
   "metadata": {
    "colab": {
     "base_uri": "https://localhost:8080/",
     "height": 449
    },
    "id": "wm0RU65WqfK1",
    "outputId": "309e836e-4c70-4e1d-a44f-95c4b5dda285"
   },
   "outputs": [],
   "source": [
    "from matplotlib import pyplot as plt\n",
    "_df_14.plot(kind='scatter', x='TEMP MIN (ºC)', y='valor estimado no período', s=32, alpha=.8)\n",
    "plt.gca().spines[['top', 'right',]].set_visible(False)"
   ]
  },
  {
   "cell_type": "code",
   "execution_count": null,
   "metadata": {
    "colab": {
     "base_uri": "https://localhost:8080/",
     "height": 391
    },
    "id": "Tc03uy-9qZKU",
    "outputId": "2f0f1960-41fa-4be7-c8a3-ae258e3f62db"
   },
   "outputs": [],
   "source": [
    "from matplotlib import pyplot as plt\n",
    "_df_18['valor estimado no período'].plot(kind='line', figsize=(8, 4), title='valor estimado no período')\n",
    "plt.gca().spines[['top', 'right']].set_visible(False)"
   ]
  },
  {
   "cell_type": "code",
   "execution_count": null,
   "metadata": {
    "colab": {
     "base_uri": "https://localhost:8080/",
     "height": 754
    },
    "id": "oDUCd4N9rJa5",
    "outputId": "abf998fc-6b82-4565-ca1d-1ecef1645092"
   },
   "outputs": [],
   "source": [
    "import seaborn as sns\n",
    "import matplotlib.pyplot as plt\n",
    "\n",
    "# Calcule a matriz de correlação\n",
    "correlation_matrix = dados_unificados.corr()\n",
    "\n",
    "# Crie um mapa de calor\n",
    "plt.figure(figsize=(10, 8))\n",
    "sns.heatmap(correlation_matrix, annot=True, cmap='coolwarm', linewidths=0.5)\n",
    "plt.title('Mapa de Calor de Correlação')\n",
    "plt.show()\n"
   ]
  },
  {
   "cell_type": "code",
   "execution_count": null,
   "metadata": {
    "colab": {
     "base_uri": "https://localhost:8080/"
    },
    "id": "g4Z4KOSC2lIW",
    "outputId": "ed425e74-eaaa-4ecc-d2eb-3786ff2fc196"
   },
   "outputs": [],
   "source": [
    "import statsmodels.api as sm\n",
    "\n",
    "# Defina as variáveis independentes (anos)\n",
    "anos = dados_unificados['Ano_x']\n",
    "\n",
    "# Defina a variável dependente (temperatura média)\n",
    "temperatura_media = dados_unificados['TEMP MAX (ºC)']\n",
    "\n",
    "# Adicione uma constante ao modelo (intercepto)\n",
    "anos = sm.add_constant(anos)\n",
    "\n",
    "# Crie um modelo de regressão linear\n",
    "modelo = sm.OLS(temperatura_media, anos).fit()\n",
    "\n",
    "# Obtenha os resultados da regressão\n",
    "resultados = modelo.summary()\n",
    "\n",
    "# Exiba os resultados\n",
    "print(resultados)\n"
   ]
  },
  {
   "cell_type": "code",
   "execution_count": null,
   "metadata": {
    "colab": {
     "base_uri": "https://localhost:8080/",
     "height": 565
    },
    "id": "m9ZcmgxY56Le",
    "outputId": "28c0cb80-e5e1-4082-d5b8-717415339de3"
   },
   "outputs": [],
   "source": [
    "import pandas as pd\n",
    "import numpy as np\n",
    "from sklearn.linear_model import LinearRegression\n",
    "import matplotlib.pyplot as plt\n",
    "\n",
    "\n",
    "\n",
    "# Filtrar e agrupar os dados por ano e calcular a média da temperatura máxima para cada ano\n",
    "temperatura_media_por_ano = df.groupby('Ano')['TEMP MAX (ºC)'].mean().reset_index()\n",
    "\n",
    "# Criar um array de anos para a análise de tendência\n",
    "anos = np.array(temperatura_media_por_ano['Ano']).reshape(-1, 1)\n",
    "\n",
    "# Criar um array de temperaturas máximas correspondentes\n",
    "temperaturas = np.array(temperatura_media_por_ano['TEMP MAX (ºC)']).reshape(-1, 1)\n",
    "\n",
    "# Inicializar o modelo de regressão linear\n",
    "regressor = LinearRegression()\n",
    "\n",
    "# Ajustar o modelo aos dados de anos e temperaturas\n",
    "regressor.fit(anos, temperaturas)\n",
    "\n",
    "# Prever a temperatura máxima para os próximos 5 anos\n",
    "anos_futuros = np.array(range(int(max(anos)) + 1, int(max(anos)) + 6)).reshape(-1, 1)\n",
    "previsoes = regressor.predict(anos_futuros)\n",
    "\n",
    "# Criar um gráfico de dispersão para os dados de temperatura\n",
    "plt.figure(figsize=(10, 6))\n",
    "plt.scatter(anos, temperaturas, color='skyblue', label='Dados de Temperatura')\n",
    "\n",
    "# Criar um gráfico de linha para as previsões dos próximos 5 anos\n",
    "plt.plot(anos_futuros, previsoes, color='orange', linestyle='--', label='Previsões para os Próximos 5 Anos')\n",
    "\n",
    "plt.title('Análise de Tendência da Temperatura Máxima')\n",
    "plt.xlabel('Ano')\n",
    "plt.ylabel('Temperatura Média Máxima (ºC)')\n",
    "plt.legend()\n",
    "\n",
    "plt.show()\n"
   ]
  },
  {
   "cell_type": "code",
   "execution_count": null,
   "metadata": {
    "colab": {
     "base_uri": "https://localhost:8080/",
     "height": 565
    },
    "id": "xZW_nDPN7LUY",
    "outputId": "fad149a1-b3ac-4aa3-c9d7-1d100674c047"
   },
   "outputs": [],
   "source": [
    "import numpy as np\n",
    "import pandas as pd\n",
    "import matplotlib.pyplot as plt\n",
    "from sklearn.linear_model import LinearRegression\n",
    "from sklearn.preprocessing import PolynomialFeatures\n",
    "\n",
    "# Suponhamos que seus dados estejam em um DataFrame chamado df\n",
    "\n",
    "# Ajustar um modelo de regressão polinomial de grau 2\n",
    "grau = 2\n",
    "X = df['Ano'].values.reshape(-1, 1)\n",
    "y = df['TEMP MAX (ºC)'].values\n",
    "\n",
    "poly_features = PolynomialFeatures(degree=grau)\n",
    "X_poly = poly_features.fit_transform(X)\n",
    "\n",
    "model = LinearRegression()\n",
    "model.fit(X_poly, y)\n",
    "\n",
    "# Prever a temperatura máxima para os próximos 5 anos\n",
    "anos_futuros = np.array(range(int(max(df['Ano']) + 1), int(max(df['Ano']) + 6))).reshape(-1, 1)\n",
    "anos_futuros_poly = poly_features.transform(anos_futuros)\n",
    "previsoes = model.predict(anos_futuros_poly)\n",
    "\n",
    "# Gráfico dos resultados\n",
    "plt.figure(figsize=(10, 6))\n",
    "plt.scatter(X, y, color='skyblue', label='Dados Reais')\n",
    "plt.plot(anos_futuros, previsoes, color='orange', label=f'Regressão Polinomial (grau {grau})')\n",
    "plt.title('Previsão de Temperatura Máxima com Regressão Polinomial')\n",
    "plt.xlabel('Ano')\n",
    "plt.ylabel('Temperatura Máxima (ºC)')\n",
    "plt.legend()\n",
    "plt.show()\n"
   ]
  },
  {
   "cell_type": "code",
   "execution_count": null,
   "metadata": {
    "colab": {
     "base_uri": "https://localhost:8080/",
     "height": 513
    },
    "id": "699f7-2K7mjk",
    "outputId": "993a9a1e-4bf4-4e0c-bddf-21bce6faf0fc"
   },
   "outputs": [],
   "source": [
    "import pandas as pd\n",
    "import matplotlib.pyplot as plt\n",
    "from statsmodels.tsa.arima_model import ARIMA\n",
    "\n",
    "# Suponhamos que seus dados estejam em um DataFrame chamado df\n",
    "\n",
    "# Converter a coluna 'Ano_x' para datetime\n",
    "df['Ano'] = pd.to_datetime(df['Ano'], format='%Y')\n",
    "\n",
    "# Configurar 'Ano_x' como índice do DataFrame\n",
    "dados_unificados.set_index('Ano', inplace=True)\n",
    "\n",
    "# Ajustar um modelo ARIMA\n",
    "modelo_arima = ARIMA(df['TEMP MAX (ºC)'], order=(5,1,0))\n",
    " # Exemplo de ordem do modelo ARIMA\n",
    "modelo_arima_fit = modelo_arima.fit(disp=0)\n",
    "\n",
    "# Prever a temperatura máxima para os próximos 5 anos\n",
    "previsoes = modelo_arima_fit.forecast(steps=5)\n",
    "\n",
    "# Gráfico dos resultados\n",
    "plt.figure(figsize=(10, 6))\n",
    "plt.plot(df.index, df['TEMP MAX (ºC)'], color='skyblue', label='Dados Reais')\n",
    "plt.plot(previsoes.index, previsoes, color='orange', label='Previsões ARIMA')\n",
    "plt.title('Previsão de Temperatura Máxima com Modelo ARIMA')\n",
    "plt.xlabel('Ano')\n",
    "plt.ylabel('Temperatura Máxima (ºC)')\n",
    "plt.legend()\n",
    "plt.show()\n"
   ]
  }
 ],
 "metadata": {
  "colab": {
   "provenance": []
  },
  "kernelspec": {
   "display_name": "Python 3 (ipykernel)",
   "language": "python",
   "name": "python3"
  },
  "language_info": {
   "codemirror_mode": {
    "name": "ipython",
    "version": 3
   },
   "file_extension": ".py",
   "mimetype": "text/x-python",
   "name": "python",
   "nbconvert_exporter": "python",
   "pygments_lexer": "ipython3",
   "version": "3.9.13"
  }
 },
 "nbformat": 4,
 "nbformat_minor": 1
}
