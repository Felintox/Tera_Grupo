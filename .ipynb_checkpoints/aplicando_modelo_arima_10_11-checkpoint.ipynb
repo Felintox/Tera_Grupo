{
 "cells": [
  {
   "cell_type": "code",
   "execution_count": 88,
   "id": "0a2d585e",
   "metadata": {
    "id": "0a2d585e"
   },
   "outputs": [],
   "source": [
    "import pandas as pd\n",
    "import numpy as np\n",
    "import matplotlib.pyplot as plt\n",
    "\n",
    "from statsmodels.tsa.arima.model import ARIMA\n",
    "from statsmodels.tsa.seasonal import seasonal_decompose\n",
    "\n",
    "import plotly.express as px\n",
    "from plotly.subplots import make_subplots\n",
    "import plotly.graph_objects as go\n",
    "\n",
    "import matplotlib.pyplot as plt\n",
    "import matplotlib.dates as mdates\n",
    "import pandas as pd\n",
    "\n",
    "import warnings\n",
    "warnings.filterwarnings('ignore')"
   ]
  },
  {
   "cell_type": "code",
   "execution_count": 89,
   "id": "f28873c6",
   "metadata": {
    "id": "f28873c6"
   },
   "outputs": [
    {
     "name": "stdout",
     "output_type": "stream",
     "text": [
      "(3177, 4)\n"
     ]
    },
    {
     "data": {
      "text/html": [
       "<div>\n",
       "<style scoped>\n",
       "    .dataframe tbody tr th:only-of-type {\n",
       "        vertical-align: middle;\n",
       "    }\n",
       "\n",
       "    .dataframe tbody tr th {\n",
       "        vertical-align: top;\n",
       "    }\n",
       "\n",
       "    .dataframe thead th {\n",
       "        text-align: right;\n",
       "    }\n",
       "</style>\n",
       "<table border=\"1\" class=\"dataframe\">\n",
       "  <thead>\n",
       "    <tr style=\"text-align: right;\">\n",
       "      <th></th>\n",
       "      <th>Data</th>\n",
       "      <th>TEMP DO AR (º)</th>\n",
       "      <th>TEMP MAX (ºC)</th>\n",
       "      <th>TEMP MIN (ºC)</th>\n",
       "    </tr>\n",
       "  </thead>\n",
       "  <tbody>\n",
       "    <tr>\n",
       "      <th>0</th>\n",
       "      <td>2023-10-31</td>\n",
       "      <td>2700.0</td>\n",
       "      <td>NaN</td>\n",
       "      <td>2200.0</td>\n",
       "    </tr>\n",
       "    <tr>\n",
       "      <th>1</th>\n",
       "      <td>2023-10-30</td>\n",
       "      <td>2300.0</td>\n",
       "      <td>NaN</td>\n",
       "      <td>1800.0</td>\n",
       "    </tr>\n",
       "    <tr>\n",
       "      <th>2</th>\n",
       "      <td>2023-10-30</td>\n",
       "      <td>2400.0</td>\n",
       "      <td>3100.0</td>\n",
       "      <td>NaN</td>\n",
       "    </tr>\n",
       "    <tr>\n",
       "      <th>3</th>\n",
       "      <td>2023-10-29</td>\n",
       "      <td>2700.0</td>\n",
       "      <td>NaN</td>\n",
       "      <td>2000.0</td>\n",
       "    </tr>\n",
       "    <tr>\n",
       "      <th>4</th>\n",
       "      <td>2023-10-29</td>\n",
       "      <td>2600.0</td>\n",
       "      <td>2800.0</td>\n",
       "      <td>NaN</td>\n",
       "    </tr>\n",
       "  </tbody>\n",
       "</table>\n",
       "</div>"
      ],
      "text/plain": [
       "         Data  TEMP DO AR (º)  TEMP MAX (ºC)  TEMP MIN (ºC)\n",
       "0  2023-10-31          2700.0            NaN         2200.0\n",
       "1  2023-10-30          2300.0            NaN         1800.0\n",
       "2  2023-10-30          2400.0         3100.0            NaN\n",
       "3  2023-10-29          2700.0            NaN         2000.0\n",
       "4  2023-10-29          2600.0         2800.0            NaN"
      ]
     },
     "execution_count": 89,
     "metadata": {},
     "output_type": "execute_result"
    }
   ],
   "source": [
    "df_temperatura=pd.read_csv('temperatura_ilha.csv')\n",
    "print(df_temperatura.shape)\n",
    "df_temperatura.head()"
   ]
  },
  {
   "cell_type": "code",
   "execution_count": 90,
   "id": "5972d904",
   "metadata": {
    "colab": {
     "base_uri": "https://localhost:8080/",
     "height": 614
    },
    "id": "5972d904",
    "outputId": "36161490-02d2-4d34-c714-49692866cead"
   },
   "outputs": [
    {
     "name": "stdout",
     "output_type": "stream",
     "text": [
      "(3159, 4)\n"
     ]
    },
    {
     "data": {
      "text/html": [
       "<div>\n",
       "<style scoped>\n",
       "    .dataframe tbody tr th:only-of-type {\n",
       "        vertical-align: middle;\n",
       "    }\n",
       "\n",
       "    .dataframe tbody tr th {\n",
       "        vertical-align: top;\n",
       "    }\n",
       "\n",
       "    .dataframe thead th {\n",
       "        text-align: right;\n",
       "    }\n",
       "</style>\n",
       "<table border=\"1\" class=\"dataframe\">\n",
       "  <thead>\n",
       "    <tr style=\"text-align: right;\">\n",
       "      <th></th>\n",
       "      <th>Data</th>\n",
       "      <th>TEMP DO AR (º)</th>\n",
       "      <th>TEMP MAX (ºC)</th>\n",
       "      <th>TEMP MIN (ºC)</th>\n",
       "    </tr>\n",
       "  </thead>\n",
       "  <tbody>\n",
       "    <tr>\n",
       "      <th>0</th>\n",
       "      <td>2023-10-31</td>\n",
       "      <td>2700.0</td>\n",
       "      <td>NaN</td>\n",
       "      <td>2200.0</td>\n",
       "    </tr>\n",
       "    <tr>\n",
       "      <th>1</th>\n",
       "      <td>2023-10-30</td>\n",
       "      <td>2300.0</td>\n",
       "      <td>NaN</td>\n",
       "      <td>1800.0</td>\n",
       "    </tr>\n",
       "    <tr>\n",
       "      <th>2</th>\n",
       "      <td>2023-10-30</td>\n",
       "      <td>2400.0</td>\n",
       "      <td>3100.0</td>\n",
       "      <td>NaN</td>\n",
       "    </tr>\n",
       "    <tr>\n",
       "      <th>3</th>\n",
       "      <td>2023-10-29</td>\n",
       "      <td>2700.0</td>\n",
       "      <td>NaN</td>\n",
       "      <td>2000.0</td>\n",
       "    </tr>\n",
       "    <tr>\n",
       "      <th>4</th>\n",
       "      <td>2023-10-29</td>\n",
       "      <td>2600.0</td>\n",
       "      <td>2800.0</td>\n",
       "      <td>NaN</td>\n",
       "    </tr>\n",
       "    <tr>\n",
       "      <th>...</th>\n",
       "      <td>...</td>\n",
       "      <td>...</td>\n",
       "      <td>...</td>\n",
       "      <td>...</td>\n",
       "    </tr>\n",
       "    <tr>\n",
       "      <th>3168</th>\n",
       "      <td>2017-04-10</td>\n",
       "      <td>2200.0</td>\n",
       "      <td>2200.0</td>\n",
       "      <td>NaN</td>\n",
       "    </tr>\n",
       "    <tr>\n",
       "      <th>3169</th>\n",
       "      <td>2017-01-10</td>\n",
       "      <td>2600.0</td>\n",
       "      <td>NaN</td>\n",
       "      <td>1900.0</td>\n",
       "    </tr>\n",
       "    <tr>\n",
       "      <th>3170</th>\n",
       "      <td>2017-02-10</td>\n",
       "      <td>2100.0</td>\n",
       "      <td>2700.0</td>\n",
       "      <td>NaN</td>\n",
       "    </tr>\n",
       "    <tr>\n",
       "      <th>3171</th>\n",
       "      <td>2017-02-10</td>\n",
       "      <td>3100.0</td>\n",
       "      <td>NaN</td>\n",
       "      <td>1900.0</td>\n",
       "    </tr>\n",
       "    <tr>\n",
       "      <th>3172</th>\n",
       "      <td>2017-01-10</td>\n",
       "      <td>2100.0</td>\n",
       "      <td>2400.0</td>\n",
       "      <td>NaN</td>\n",
       "    </tr>\n",
       "  </tbody>\n",
       "</table>\n",
       "<p>3159 rows × 4 columns</p>\n",
       "</div>"
      ],
      "text/plain": [
       "            Data  TEMP DO AR (º)  TEMP MAX (ºC)  TEMP MIN (ºC)\n",
       "0     2023-10-31          2700.0            NaN         2200.0\n",
       "1     2023-10-30          2300.0            NaN         1800.0\n",
       "2     2023-10-30          2400.0         3100.0            NaN\n",
       "3     2023-10-29          2700.0            NaN         2000.0\n",
       "4     2023-10-29          2600.0         2800.0            NaN\n",
       "...          ...             ...            ...            ...\n",
       "3168  2017-04-10          2200.0         2200.0            NaN\n",
       "3169  2017-01-10          2600.0            NaN         1900.0\n",
       "3170  2017-02-10          2100.0         2700.0            NaN\n",
       "3171  2017-02-10          3100.0            NaN         1900.0\n",
       "3172  2017-01-10          2100.0         2400.0            NaN\n",
       "\n",
       "[3159 rows x 4 columns]"
      ]
     },
     "execution_count": 90,
     "metadata": {},
     "output_type": "execute_result"
    }
   ],
   "source": [
    "#Excluindo valores em que não tem DATA\n",
    "df_temperatura[df_temperatura['Data'].isnull()]\n",
    "empty_indices = df_temperatura[df_temperatura['Data'].isnull()].index.tolist()\n",
    "df_temperatura2=df_temperatura.drop(empty_indices)\n",
    "print(df_temperatura2.shape)\n",
    "df_temperatura2"
   ]
  },
  {
   "cell_type": "code",
   "execution_count": 91,
   "id": "e1a57285",
   "metadata": {
    "id": "e1a57285"
   },
   "outputs": [
    {
     "data": {
      "text/html": [
       "<div>\n",
       "<style scoped>\n",
       "    .dataframe tbody tr th:only-of-type {\n",
       "        vertical-align: middle;\n",
       "    }\n",
       "\n",
       "    .dataframe tbody tr th {\n",
       "        vertical-align: top;\n",
       "    }\n",
       "\n",
       "    .dataframe thead th {\n",
       "        text-align: right;\n",
       "    }\n",
       "</style>\n",
       "<table border=\"1\" class=\"dataframe\">\n",
       "  <thead>\n",
       "    <tr style=\"text-align: right;\">\n",
       "      <th></th>\n",
       "      <th>Data</th>\n",
       "      <th>TEMP DO AR (º)</th>\n",
       "      <th>TEMP MAX (ºC)</th>\n",
       "      <th>TEMP MIN (ºC)</th>\n",
       "    </tr>\n",
       "  </thead>\n",
       "  <tbody>\n",
       "    <tr>\n",
       "      <th>0</th>\n",
       "      <td>2023-10-31</td>\n",
       "      <td>27.0</td>\n",
       "      <td>NaN</td>\n",
       "      <td>22.0</td>\n",
       "    </tr>\n",
       "    <tr>\n",
       "      <th>1</th>\n",
       "      <td>2023-10-30</td>\n",
       "      <td>23.0</td>\n",
       "      <td>NaN</td>\n",
       "      <td>18.0</td>\n",
       "    </tr>\n",
       "    <tr>\n",
       "      <th>2</th>\n",
       "      <td>2023-10-30</td>\n",
       "      <td>24.0</td>\n",
       "      <td>31.0</td>\n",
       "      <td>NaN</td>\n",
       "    </tr>\n",
       "    <tr>\n",
       "      <th>3</th>\n",
       "      <td>2023-10-29</td>\n",
       "      <td>27.0</td>\n",
       "      <td>NaN</td>\n",
       "      <td>20.0</td>\n",
       "    </tr>\n",
       "    <tr>\n",
       "      <th>4</th>\n",
       "      <td>2023-10-29</td>\n",
       "      <td>26.0</td>\n",
       "      <td>28.0</td>\n",
       "      <td>NaN</td>\n",
       "    </tr>\n",
       "  </tbody>\n",
       "</table>\n",
       "</div>"
      ],
      "text/plain": [
       "         Data  TEMP DO AR (º)  TEMP MAX (ºC)  TEMP MIN (ºC)\n",
       "0  2023-10-31            27.0            NaN           22.0\n",
       "1  2023-10-30            23.0            NaN           18.0\n",
       "2  2023-10-30            24.0           31.0            NaN\n",
       "3  2023-10-29            27.0            NaN           20.0\n",
       "4  2023-10-29            26.0           28.0            NaN"
      ]
     },
     "execution_count": 91,
     "metadata": {},
     "output_type": "execute_result"
    }
   ],
   "source": [
    "#Deixando na Escala Normal\n",
    "\n",
    "colunas_numericas_tmp=['TEMP DO AR (º)','TEMP MAX (ºC)','TEMP MIN (ºC)']\n",
    "df_temperatura2[colunas_numericas_tmp]=df_temperatura2[colunas_numericas_tmp].apply(lambda x: x / 100)\n",
    "df_temperatura2.head()"
   ]
  },
  {
   "cell_type": "markdown",
   "id": "7b4e6d02",
   "metadata": {},
   "source": [
    "# Grafico TEMP MIN X DATA"
   ]
  },
  {
   "cell_type": "code",
   "execution_count": 92,
   "id": "c2d5f1c4",
   "metadata": {},
   "outputs": [
    {
     "name": "stdout",
     "output_type": "stream",
     "text": [
      "(1533, 2)\n"
     ]
    },
    {
     "data": {
      "text/html": [
       "<div>\n",
       "<style scoped>\n",
       "    .dataframe tbody tr th:only-of-type {\n",
       "        vertical-align: middle;\n",
       "    }\n",
       "\n",
       "    .dataframe tbody tr th {\n",
       "        vertical-align: top;\n",
       "    }\n",
       "\n",
       "    .dataframe thead th {\n",
       "        text-align: right;\n",
       "    }\n",
       "</style>\n",
       "<table border=\"1\" class=\"dataframe\">\n",
       "  <thead>\n",
       "    <tr style=\"text-align: right;\">\n",
       "      <th></th>\n",
       "      <th>Data</th>\n",
       "      <th>TEMP MIN (ºC)</th>\n",
       "    </tr>\n",
       "  </thead>\n",
       "  <tbody>\n",
       "    <tr>\n",
       "      <th>0</th>\n",
       "      <td>2017-01-10</td>\n",
       "      <td>19.0</td>\n",
       "    </tr>\n",
       "    <tr>\n",
       "      <th>1</th>\n",
       "      <td>2017-02-10</td>\n",
       "      <td>19.0</td>\n",
       "    </tr>\n",
       "    <tr>\n",
       "      <th>2</th>\n",
       "      <td>2017-04-10</td>\n",
       "      <td>18.0</td>\n",
       "    </tr>\n",
       "    <tr>\n",
       "      <th>3</th>\n",
       "      <td>2017-05-10</td>\n",
       "      <td>22.0</td>\n",
       "    </tr>\n",
       "    <tr>\n",
       "      <th>4</th>\n",
       "      <td>2017-06-10</td>\n",
       "      <td>22.0</td>\n",
       "    </tr>\n",
       "    <tr>\n",
       "      <th>...</th>\n",
       "      <td>...</td>\n",
       "      <td>...</td>\n",
       "    </tr>\n",
       "    <tr>\n",
       "      <th>1528</th>\n",
       "      <td>2023-10-27</td>\n",
       "      <td>18.0</td>\n",
       "    </tr>\n",
       "    <tr>\n",
       "      <th>1529</th>\n",
       "      <td>2023-10-28</td>\n",
       "      <td>21.0</td>\n",
       "    </tr>\n",
       "    <tr>\n",
       "      <th>1530</th>\n",
       "      <td>2023-10-29</td>\n",
       "      <td>20.0</td>\n",
       "    </tr>\n",
       "    <tr>\n",
       "      <th>1531</th>\n",
       "      <td>2023-10-30</td>\n",
       "      <td>18.0</td>\n",
       "    </tr>\n",
       "    <tr>\n",
       "      <th>1532</th>\n",
       "      <td>2023-10-31</td>\n",
       "      <td>22.0</td>\n",
       "    </tr>\n",
       "  </tbody>\n",
       "</table>\n",
       "<p>1533 rows × 2 columns</p>\n",
       "</div>"
      ],
      "text/plain": [
       "            Data  TEMP MIN (ºC)\n",
       "0     2017-01-10           19.0\n",
       "1     2017-02-10           19.0\n",
       "2     2017-04-10           18.0\n",
       "3     2017-05-10           22.0\n",
       "4     2017-06-10           22.0\n",
       "...          ...            ...\n",
       "1528  2023-10-27           18.0\n",
       "1529  2023-10-28           21.0\n",
       "1530  2023-10-29           20.0\n",
       "1531  2023-10-30           18.0\n",
       "1532  2023-10-31           22.0\n",
       "\n",
       "[1533 rows x 2 columns]"
      ]
     },
     "execution_count": 92,
     "metadata": {},
     "output_type": "execute_result"
    }
   ],
   "source": [
    "df_tempmin=df_temperatura2.drop(['TEMP MAX (ºC)','TEMP DO AR (º)'],axis=1).dropna()\n",
    "df_tempmin = df_tempmin.groupby('Data')['TEMP MIN (ºC)'].min().reset_index()\n",
    "print(df_tempmin.shape)\n",
    "df_tempmin"
   ]
  },
  {
   "cell_type": "code",
   "execution_count": 93,
   "id": "2f646583",
   "metadata": {},
   "outputs": [
    {
     "data": {
      "image/png": "[encoded data removed]",
      "text/plain": [
       "<Figure size 1500x500 with 1 Axes>"
      ]
     },
     "metadata": {},
     "output_type": "display_data"
    }
   ],
   "source": [
    "# Plotando os dados de treino e teste\n",
    "df_tempmin['Data'] = pd.to_datetime(df_tempmin['Data'])\n",
    "plt.figure(figsize=(15, 5))  # Tamanho reduzido para melhor visualização\n",
    "plt.plot(df_tempmin['Data'], df_tempmin['TEMP MIN (ºC)'], color='b')  # Plotando treino\n",
    "plt.xlabel('Data')\n",
    "plt.ylabel('Temperatura Mínima (ºC)')\n",
    "plt.title('Variação da Temperatura Mínima')\n",
    "\n",
    "# Configurando os ticks do eixo x para que eles representem apenas os anos presentes nos dados\n",
    "years = mdates.YearLocator()  # Localizador de anos\n",
    "years_fmt = mdates.DateFormatter('%Y')  # Formatador para mostrar apenas o ano\n",
    "plt.gca().xaxis.set_major_locator(years)\n",
    "plt.gca().xaxis.set_major_formatter(years_fmt)\n",
    "\n",
    "# Melhorar a apresentação dos ticks do eixo x para evitar sobreposição\n",
    "plt.gcf().autofmt_xdate()\n",
    "\n",
    "plt.show()"
   ]
  },
  {
   "cell_type": "markdown",
   "id": "15083aee",
   "metadata": {},
   "source": [
    "# Grafico TEMP DO AR  X DATA"
   ]
  },
  {
   "cell_type": "code",
   "execution_count": 94,
   "id": "c07e015b",
   "metadata": {
    "colab": {
     "base_uri": "https://localhost:8080/",
     "height": 542
    },
    "id": "c07e015b",
    "outputId": "7e72f4ed-c2a2-4248-e39a-2365db4919b0"
   },
   "outputs": [
    {
     "name": "stdout",
     "output_type": "stream",
     "text": [
      "(1783, 2)\n"
     ]
    },
    {
     "data": {
      "text/html": [
       "<div>\n",
       "<style scoped>\n",
       "    .dataframe tbody tr th:only-of-type {\n",
       "        vertical-align: middle;\n",
       "    }\n",
       "\n",
       "    .dataframe tbody tr th {\n",
       "        vertical-align: top;\n",
       "    }\n",
       "\n",
       "    .dataframe thead th {\n",
       "        text-align: right;\n",
       "    }\n",
       "</style>\n",
       "<table border=\"1\" class=\"dataframe\">\n",
       "  <thead>\n",
       "    <tr style=\"text-align: right;\">\n",
       "      <th></th>\n",
       "      <th>Data</th>\n",
       "      <th>TEMP DO AR (º)</th>\n",
       "    </tr>\n",
       "  </thead>\n",
       "  <tbody>\n",
       "    <tr>\n",
       "      <th>0</th>\n",
       "      <td>2017-01-10</td>\n",
       "      <td>26.0</td>\n",
       "    </tr>\n",
       "    <tr>\n",
       "      <th>1</th>\n",
       "      <td>2017-02-10</td>\n",
       "      <td>31.0</td>\n",
       "    </tr>\n",
       "    <tr>\n",
       "      <th>2</th>\n",
       "      <td>2017-03-10</td>\n",
       "      <td>25.0</td>\n",
       "    </tr>\n",
       "    <tr>\n",
       "      <th>3</th>\n",
       "      <td>2017-04-10</td>\n",
       "      <td>22.0</td>\n",
       "    </tr>\n",
       "    <tr>\n",
       "      <th>4</th>\n",
       "      <td>2017-05-10</td>\n",
       "      <td>23.0</td>\n",
       "    </tr>\n",
       "    <tr>\n",
       "      <th>...</th>\n",
       "      <td>...</td>\n",
       "      <td>...</td>\n",
       "    </tr>\n",
       "    <tr>\n",
       "      <th>1778</th>\n",
       "      <td>2023-10-27</td>\n",
       "      <td>22.0</td>\n",
       "    </tr>\n",
       "    <tr>\n",
       "      <th>1779</th>\n",
       "      <td>2023-10-28</td>\n",
       "      <td>24.0</td>\n",
       "    </tr>\n",
       "    <tr>\n",
       "      <th>1780</th>\n",
       "      <td>2023-10-29</td>\n",
       "      <td>27.0</td>\n",
       "    </tr>\n",
       "    <tr>\n",
       "      <th>1781</th>\n",
       "      <td>2023-10-30</td>\n",
       "      <td>24.0</td>\n",
       "    </tr>\n",
       "    <tr>\n",
       "      <th>1782</th>\n",
       "      <td>2023-10-31</td>\n",
       "      <td>27.0</td>\n",
       "    </tr>\n",
       "  </tbody>\n",
       "</table>\n",
       "<p>1783 rows × 2 columns</p>\n",
       "</div>"
      ],
      "text/plain": [
       "            Data  TEMP DO AR (º)\n",
       "0     2017-01-10            26.0\n",
       "1     2017-02-10            31.0\n",
       "2     2017-03-10            25.0\n",
       "3     2017-04-10            22.0\n",
       "4     2017-05-10            23.0\n",
       "...          ...             ...\n",
       "1778  2023-10-27            22.0\n",
       "1779  2023-10-28            24.0\n",
       "1780  2023-10-29            27.0\n",
       "1781  2023-10-30            24.0\n",
       "1782  2023-10-31            27.0\n",
       "\n",
       "[1783 rows x 2 columns]"
      ]
     },
     "execution_count": 94,
     "metadata": {},
     "output_type": "execute_result"
    }
   ],
   "source": [
    "df_tempar=df_temperatura2.drop(['TEMP MAX (ºC)','TEMP MIN (ºC)'],axis=1).dropna()\n",
    "df_tempar = df_tempar.groupby('Data')['TEMP DO AR (º)'].max().reset_index()\n",
    "print(df_tempar.shape)\n",
    "df_tempar"
   ]
  },
  {
   "cell_type": "code",
   "execution_count": 95,
   "id": "6c30f120",
   "metadata": {},
   "outputs": [
    {
     "data": {
      "image/png": "[encoded data removed]",
      "text/plain": [
       "<Figure size 1500x500 with 1 Axes>"
      ]
     },
     "metadata": {},
     "output_type": "display_data"
    }
   ],
   "source": [
    "# Plotando os dados de treino e teste\n",
    "df_tempar['Data'] = pd.to_datetime(df_tempar['Data'])\n",
    "plt.figure(figsize=(15, 5))  # Tamanho reduzido para melhor visualização\n",
    "plt.plot(df_tempar['Data'], df_tempar['TEMP DO AR (º)'], color='g')  # Plotando treino\n",
    "plt.xlabel('Data')\n",
    "plt.ylabel('Temperatura do ar ')\n",
    "plt.title('Variação da Temperatura do ar')\n",
    "\n",
    "# Configurando os ticks do eixo x para que eles representem apenas os anos presentes nos dados\n",
    "years = mdates.YearLocator()  # Localizador de anos\n",
    "years_fmt = mdates.DateFormatter('%Y')  # Formatador para mostrar apenas o ano\n",
    "plt.gca().xaxis.set_major_locator(years)\n",
    "plt.gca().xaxis.set_major_formatter(years_fmt)\n",
    "\n",
    "# Melhorar a apresentação dos ticks do eixo x para evitar sobreposição\n",
    "plt.gcf().autofmt_xdate()\n",
    "\n",
    "plt.show()"
   ]
  },
  {
   "cell_type": "markdown",
   "id": "e3e7e353",
   "metadata": {},
   "source": [
    "# Modelo ARIMA para TEMP MAX"
   ]
  },
  {
   "cell_type": "markdown",
   "id": "d4c7a35f",
   "metadata": {},
   "source": [
    "Como so vamos usar o \"temp max\" eu retirei as duplicatas (duas ou mais medições diarias) e coloquei o valor maximo de cada dia!"
   ]
  },
  {
   "cell_type": "code",
   "execution_count": 96,
   "id": "1e8abebd",
   "metadata": {},
   "outputs": [
    {
     "name": "stdout",
     "output_type": "stream",
     "text": [
      "       TEMP MAX (ºC)\n",
      "count    1499.000000\n",
      "mean       27.914610\n",
      "std         3.604817\n",
      "min        17.000000\n",
      "25%        25.000000\n",
      "50%        28.000000\n",
      "75%        31.000000\n",
      "max        41.000000\n"
     ]
    },
    {
     "data": {
      "text/html": [
       "<div>\n",
       "<style scoped>\n",
       "    .dataframe tbody tr th:only-of-type {\n",
       "        vertical-align: middle;\n",
       "    }\n",
       "\n",
       "    .dataframe tbody tr th {\n",
       "        vertical-align: top;\n",
       "    }\n",
       "\n",
       "    .dataframe thead th {\n",
       "        text-align: right;\n",
       "    }\n",
       "</style>\n",
       "<table border=\"1\" class=\"dataframe\">\n",
       "  <thead>\n",
       "    <tr style=\"text-align: right;\">\n",
       "      <th></th>\n",
       "      <th>Data</th>\n",
       "      <th>TEMP MAX (ºC)</th>\n",
       "    </tr>\n",
       "  </thead>\n",
       "  <tbody>\n",
       "    <tr>\n",
       "      <th>0</th>\n",
       "      <td>2017-01-10</td>\n",
       "      <td>24.0</td>\n",
       "    </tr>\n",
       "    <tr>\n",
       "      <th>1</th>\n",
       "      <td>2017-02-10</td>\n",
       "      <td>27.0</td>\n",
       "    </tr>\n",
       "    <tr>\n",
       "      <th>2</th>\n",
       "      <td>2017-03-10</td>\n",
       "      <td>33.0</td>\n",
       "    </tr>\n",
       "    <tr>\n",
       "      <th>3</th>\n",
       "      <td>2017-04-10</td>\n",
       "      <td>22.0</td>\n",
       "    </tr>\n",
       "    <tr>\n",
       "      <th>4</th>\n",
       "      <td>2017-05-10</td>\n",
       "      <td>22.0</td>\n",
       "    </tr>\n",
       "  </tbody>\n",
       "</table>\n",
       "</div>"
      ],
      "text/plain": [
       "         Data  TEMP MAX (ºC)\n",
       "0  2017-01-10           24.0\n",
       "1  2017-02-10           27.0\n",
       "2  2017-03-10           33.0\n",
       "3  2017-04-10           22.0\n",
       "4  2017-05-10           22.0"
      ]
     },
     "execution_count": 96,
     "metadata": {},
     "output_type": "execute_result"
    }
   ],
   "source": [
    "df_tempmax=df_temperatura2.drop(['TEMP DO AR (º)','TEMP MIN (ºC)'],axis=1).dropna()\n",
    "df_tempmax = df_tempmax.groupby('Data')['TEMP MAX (ºC)'].max().reset_index()\n",
    "print(df_tempmax.describe())\n",
    "df_tempmax.head()\n"
   ]
  },
  {
   "cell_type": "code",
   "execution_count": 97,
   "id": "4d52eab6",
   "metadata": {},
   "outputs": [
    {
     "data": {
      "image/png": "[encoded data removed]",
      "text/plain": [
       "<Figure size 1000x600 with 1 Axes>"
      ]
     },
     "metadata": {},
     "output_type": "display_data"
    }
   ],
   "source": [
    "plt.figure(figsize=(10, 6))\n",
    "plt.boxplot(df_tempmax['TEMP MAX (ºC)'])\n",
    "plt.title('Boxplot da Temperatura Máxima')\n",
    "plt.xlabel('Temperatura Máxima (ºC)')\n",
    "plt.show()"
   ]
  },
  {
   "cell_type": "code",
   "execution_count": 98,
   "id": "e846a573",
   "metadata": {},
   "outputs": [
    {
     "data": {
      "text/plain": [
       "Data             0\n",
       "TEMP MAX (ºC)    0\n",
       "dtype: int64"
      ]
     },
     "execution_count": 98,
     "metadata": {},
     "output_type": "execute_result"
    }
   ],
   "source": [
    "df_tempmax.isnull().sum()"
   ]
  },
  {
   "cell_type": "code",
   "execution_count": 100,
   "id": "662466c1",
   "metadata": {},
   "outputs": [
    {
     "data": {
      "text/html": [
       "<div>\n",
       "<style scoped>\n",
       "    .dataframe tbody tr th:only-of-type {\n",
       "        vertical-align: middle;\n",
       "    }\n",
       "\n",
       "    .dataframe tbody tr th {\n",
       "        vertical-align: top;\n",
       "    }\n",
       "\n",
       "    .dataframe thead th {\n",
       "        text-align: right;\n",
       "    }\n",
       "</style>\n",
       "<table border=\"1\" class=\"dataframe\">\n",
       "  <thead>\n",
       "    <tr style=\"text-align: right;\">\n",
       "      <th></th>\n",
       "      <th>Data</th>\n",
       "      <th>TEMP MAX (ºC)</th>\n",
       "    </tr>\n",
       "  </thead>\n",
       "  <tbody>\n",
       "    <tr>\n",
       "      <th>0</th>\n",
       "      <td>2017-01-10</td>\n",
       "      <td>24.0</td>\n",
       "    </tr>\n",
       "    <tr>\n",
       "      <th>1</th>\n",
       "      <td>2017-02-10</td>\n",
       "      <td>27.0</td>\n",
       "    </tr>\n",
       "    <tr>\n",
       "      <th>2</th>\n",
       "      <td>2017-03-10</td>\n",
       "      <td>33.0</td>\n",
       "    </tr>\n",
       "    <tr>\n",
       "      <th>3</th>\n",
       "      <td>2017-04-10</td>\n",
       "      <td>22.0</td>\n",
       "    </tr>\n",
       "    <tr>\n",
       "      <th>4</th>\n",
       "      <td>2017-05-10</td>\n",
       "      <td>22.0</td>\n",
       "    </tr>\n",
       "    <tr>\n",
       "      <th>...</th>\n",
       "      <td>...</td>\n",
       "      <td>...</td>\n",
       "    </tr>\n",
       "    <tr>\n",
       "      <th>1494</th>\n",
       "      <td>2023-10-26</td>\n",
       "      <td>26.0</td>\n",
       "    </tr>\n",
       "    <tr>\n",
       "      <th>1495</th>\n",
       "      <td>2023-10-27</td>\n",
       "      <td>25.0</td>\n",
       "    </tr>\n",
       "    <tr>\n",
       "      <th>1496</th>\n",
       "      <td>2023-10-28</td>\n",
       "      <td>17.0</td>\n",
       "    </tr>\n",
       "    <tr>\n",
       "      <th>1497</th>\n",
       "      <td>2023-10-29</td>\n",
       "      <td>28.0</td>\n",
       "    </tr>\n",
       "    <tr>\n",
       "      <th>1498</th>\n",
       "      <td>2023-10-30</td>\n",
       "      <td>31.0</td>\n",
       "    </tr>\n",
       "  </tbody>\n",
       "</table>\n",
       "<p>1499 rows × 2 columns</p>\n",
       "</div>"
      ],
      "text/plain": [
       "           Data  TEMP MAX (ºC)\n",
       "0    2017-01-10           24.0\n",
       "1    2017-02-10           27.0\n",
       "2    2017-03-10           33.0\n",
       "3    2017-04-10           22.0\n",
       "4    2017-05-10           22.0\n",
       "...         ...            ...\n",
       "1494 2023-10-26           26.0\n",
       "1495 2023-10-27           25.0\n",
       "1496 2023-10-28           17.0\n",
       "1497 2023-10-29           28.0\n",
       "1498 2023-10-30           31.0\n",
       "\n",
       "[1499 rows x 2 columns]"
      ]
     },
     "execution_count": 100,
     "metadata": {},
     "output_type": "execute_result"
    }
   ],
   "source": [
    "df_tempmax"
   ]
  },
  {
   "cell_type": "code",
   "execution_count": 101,
   "id": "0b618827",
   "metadata": {},
   "outputs": [],
   "source": [
    "# Convertendo a coluna 'Data' para datetime e definindo como índice\n",
    "df_tempmax['Data'] = pd.to_datetime(df_tempmax['Data'])\n",
    "df_tempmax.set_index('Data', inplace=True)\n",
    "\n",
    "# Verificando se todas as datas estão presentes\n",
    "# Se você espera que os dados sejam diários sem lacunas, reamostra e interpola os valores faltantes\n",
    "df_tempmax = df_tempmax.asfreq('D').interpolate()\n",
    "\n",
    "# Agora, com a frequência definida, você pode aplicar seasonal_decompose\n",
    "result = seasonal_decompose(df_tempmax['TEMP MAX (ºC)'], model='additive', period=1)\n",
    "\n",
    "# O 'period' deve ser especificado se a frequência não for inferida automaticamente\n",
    "# Aqui, 'period=1' significa que cada observação é tratada como um período único"
   ]
  },
  {
   "cell_type": "code",
   "execution_count": 102,
   "id": "4fcc411d",
   "metadata": {
    "colab": {
     "base_uri": "https://localhost:8080/",
     "height": 389
    },
    "id": "4fcc411d",
    "outputId": "b751123a-dcbd-4d89-da02-b6029fbaf3fb"
   },
   "outputs": [
    {
     "ename": "KeyError",
     "evalue": "'Data'",
     "output_type": "error",
     "traceback": [
      "\u001b[1;31m---------------------------------------------------------------------------\u001b[0m",
      "\u001b[1;31mKeyError\u001b[0m                                  Traceback (most recent call last)",
      "\u001b[1;32m~\\anaconda3\\lib\\site-packages\\pandas\\core\\indexes\\base.py\u001b[0m in \u001b[0;36mget_loc\u001b[1;34m(self, key, method, tolerance)\u001b[0m\n\u001b[0;32m   3628\u001b[0m             \u001b[1;32mtry\u001b[0m\u001b[1;33m:\u001b[0m\u001b[1;33m\u001b[0m\u001b[1;33m\u001b[0m\u001b[0m\n\u001b[1;32m-> 3629\u001b[1;33m                 \u001b[1;32mreturn\u001b[0m \u001b[0mself\u001b[0m\u001b[1;33m.\u001b[0m\u001b[0m_engine\u001b[0m\u001b[1;33m.\u001b[0m\u001b[0mget_loc\u001b[0m\u001b[1;33m(\u001b[0m\u001b[0mcasted_key\u001b[0m\u001b[1;33m)\u001b[0m\u001b[1;33m\u001b[0m\u001b[1;33m\u001b[0m\u001b[0m\n\u001b[0m\u001b[0;32m   3630\u001b[0m             \u001b[1;32mexcept\u001b[0m \u001b[0mKeyError\u001b[0m \u001b[1;32mas\u001b[0m \u001b[0merr\u001b[0m\u001b[1;33m:\u001b[0m\u001b[1;33m\u001b[0m\u001b[1;33m\u001b[0m\u001b[0m\n",
      "\u001b[1;32m~\\anaconda3\\lib\\site-packages\\pandas\\_libs\\index.pyx\u001b[0m in \u001b[0;36mpandas._libs.index.IndexEngine.get_loc\u001b[1;34m()\u001b[0m\n",
      "\u001b[1;32m~\\anaconda3\\lib\\site-packages\\pandas\\_libs\\index.pyx\u001b[0m in \u001b[0;36mpandas._libs.index.IndexEngine.get_loc\u001b[1;34m()\u001b[0m\n",
      "\u001b[1;32mpandas\\_libs\\hashtable_class_helper.pxi\u001b[0m in \u001b[0;36mpandas._libs.hashtable.PyObjectHashTable.get_item\u001b[1;34m()\u001b[0m\n",
      "\u001b[1;32mpandas\\_libs\\hashtable_class_helper.pxi\u001b[0m in \u001b[0;36mpandas._libs.hashtable.PyObjectHashTable.get_item\u001b[1;34m()\u001b[0m\n",
      "\u001b[1;31mKeyError\u001b[0m: 'Data'",
      "\nThe above exception was the direct cause of the following exception:\n",
      "\u001b[1;31mKeyError\u001b[0m                                  Traceback (most recent call last)",
      "\u001b[1;32m~\\AppData\\Local\\Temp\\ipykernel_668\\2437398784.py\u001b[0m in \u001b[0;36m<module>\u001b[1;34m\u001b[0m\n\u001b[0;32m      1\u001b[0m \u001b[1;31m# Certifique-se de que 'Data' é um tipo datetime\u001b[0m\u001b[1;33m\u001b[0m\u001b[1;33m\u001b[0m\u001b[0m\n\u001b[1;32m----> 2\u001b[1;33m \u001b[0mdf_tempmax\u001b[0m\u001b[1;33m[\u001b[0m\u001b[1;34m'Data'\u001b[0m\u001b[1;33m]\u001b[0m \u001b[1;33m=\u001b[0m \u001b[0mpd\u001b[0m\u001b[1;33m.\u001b[0m\u001b[0mto_datetime\u001b[0m\u001b[1;33m(\u001b[0m\u001b[0mdf_tempmax\u001b[0m\u001b[1;33m[\u001b[0m\u001b[1;34m'Data'\u001b[0m\u001b[1;33m]\u001b[0m\u001b[1;33m)\u001b[0m\u001b[1;33m\u001b[0m\u001b[1;33m\u001b[0m\u001b[0m\n\u001b[0m\u001b[0;32m      3\u001b[0m \u001b[1;33m\u001b[0m\u001b[0m\n\u001b[0;32m      4\u001b[0m \u001b[1;31m# Filtrando os dados conforme as datas fornecidas para treino e teste\u001b[0m\u001b[1;33m\u001b[0m\u001b[1;33m\u001b[0m\u001b[0m\n\u001b[0;32m      5\u001b[0m \u001b[0mtemp_treino\u001b[0m \u001b[1;33m=\u001b[0m \u001b[0mdf_tempmax\u001b[0m\u001b[1;33m[\u001b[0m\u001b[0mdf_tempmax\u001b[0m\u001b[1;33m[\u001b[0m\u001b[1;34m'Data'\u001b[0m\u001b[1;33m]\u001b[0m \u001b[1;33m<=\u001b[0m \u001b[1;34m'2020-05-01'\u001b[0m\u001b[1;33m]\u001b[0m\u001b[1;33m\u001b[0m\u001b[1;33m\u001b[0m\u001b[0m\n",
      "\u001b[1;32m~\\anaconda3\\lib\\site-packages\\pandas\\core\\frame.py\u001b[0m in \u001b[0;36m__getitem__\u001b[1;34m(self, key)\u001b[0m\n\u001b[0;32m   3503\u001b[0m             \u001b[1;32mif\u001b[0m \u001b[0mself\u001b[0m\u001b[1;33m.\u001b[0m\u001b[0mcolumns\u001b[0m\u001b[1;33m.\u001b[0m\u001b[0mnlevels\u001b[0m \u001b[1;33m>\u001b[0m \u001b[1;36m1\u001b[0m\u001b[1;33m:\u001b[0m\u001b[1;33m\u001b[0m\u001b[1;33m\u001b[0m\u001b[0m\n\u001b[0;32m   3504\u001b[0m                 \u001b[1;32mreturn\u001b[0m \u001b[0mself\u001b[0m\u001b[1;33m.\u001b[0m\u001b[0m_getitem_multilevel\u001b[0m\u001b[1;33m(\u001b[0m\u001b[0mkey\u001b[0m\u001b[1;33m)\u001b[0m\u001b[1;33m\u001b[0m\u001b[1;33m\u001b[0m\u001b[0m\n\u001b[1;32m-> 3505\u001b[1;33m             \u001b[0mindexer\u001b[0m \u001b[1;33m=\u001b[0m \u001b[0mself\u001b[0m\u001b[1;33m.\u001b[0m\u001b[0mcolumns\u001b[0m\u001b[1;33m.\u001b[0m\u001b[0mget_loc\u001b[0m\u001b[1;33m(\u001b[0m\u001b[0mkey\u001b[0m\u001b[1;33m)\u001b[0m\u001b[1;33m\u001b[0m\u001b[1;33m\u001b[0m\u001b[0m\n\u001b[0m\u001b[0;32m   3506\u001b[0m             \u001b[1;32mif\u001b[0m \u001b[0mis_integer\u001b[0m\u001b[1;33m(\u001b[0m\u001b[0mindexer\u001b[0m\u001b[1;33m)\u001b[0m\u001b[1;33m:\u001b[0m\u001b[1;33m\u001b[0m\u001b[1;33m\u001b[0m\u001b[0m\n\u001b[0;32m   3507\u001b[0m                 \u001b[0mindexer\u001b[0m \u001b[1;33m=\u001b[0m \u001b[1;33m[\u001b[0m\u001b[0mindexer\u001b[0m\u001b[1;33m]\u001b[0m\u001b[1;33m\u001b[0m\u001b[1;33m\u001b[0m\u001b[0m\n",
      "\u001b[1;32m~\\anaconda3\\lib\\site-packages\\pandas\\core\\indexes\\base.py\u001b[0m in \u001b[0;36mget_loc\u001b[1;34m(self, key, method, tolerance)\u001b[0m\n\u001b[0;32m   3629\u001b[0m                 \u001b[1;32mreturn\u001b[0m \u001b[0mself\u001b[0m\u001b[1;33m.\u001b[0m\u001b[0m_engine\u001b[0m\u001b[1;33m.\u001b[0m\u001b[0mget_loc\u001b[0m\u001b[1;33m(\u001b[0m\u001b[0mcasted_key\u001b[0m\u001b[1;33m)\u001b[0m\u001b[1;33m\u001b[0m\u001b[1;33m\u001b[0m\u001b[0m\n\u001b[0;32m   3630\u001b[0m             \u001b[1;32mexcept\u001b[0m \u001b[0mKeyError\u001b[0m \u001b[1;32mas\u001b[0m \u001b[0merr\u001b[0m\u001b[1;33m:\u001b[0m\u001b[1;33m\u001b[0m\u001b[1;33m\u001b[0m\u001b[0m\n\u001b[1;32m-> 3631\u001b[1;33m                 \u001b[1;32mraise\u001b[0m \u001b[0mKeyError\u001b[0m\u001b[1;33m(\u001b[0m\u001b[0mkey\u001b[0m\u001b[1;33m)\u001b[0m \u001b[1;32mfrom\u001b[0m \u001b[0merr\u001b[0m\u001b[1;33m\u001b[0m\u001b[1;33m\u001b[0m\u001b[0m\n\u001b[0m\u001b[0;32m   3632\u001b[0m             \u001b[1;32mexcept\u001b[0m \u001b[0mTypeError\u001b[0m\u001b[1;33m:\u001b[0m\u001b[1;33m\u001b[0m\u001b[1;33m\u001b[0m\u001b[0m\n\u001b[0;32m   3633\u001b[0m                 \u001b[1;31m# If we have a listlike key, _check_indexing_error will raise\u001b[0m\u001b[1;33m\u001b[0m\u001b[1;33m\u001b[0m\u001b[0m\n",
      "\u001b[1;31mKeyError\u001b[0m: 'Data'"
     ]
    }
   ],
   "source": [
    "\n",
    "\n",
    "# Certifique-se de que 'Data' é um tipo datetime\n",
    "df_tempmax['Data'] = pd.to_datetime(df_tempmax['Data'])\n",
    "\n",
    "# Filtrando os dados conforme as datas fornecidas para treino e teste\n",
    "temp_treino = df_tempmax[df_tempmax['Data'] <= '2020-05-01']\n",
    "temp_teste = df_tempmax[df_tempmax['Data'] > '2019-05-01']\n",
    "\n",
    "# Plotando os dados de treino e teste\n",
    "plt.figure(figsize=(15, 5))  # Tamanho reduzido para melhor visualização\n",
    "plt.plot(temp_treino['Data'], temp_treino['TEMP MAX (ºC)'], color='b')  # Plotando treino\n",
    "plt.plot(temp_teste['Data'], temp_teste['TEMP MAX (ºC)'], color='r')  # Plotando teste\n",
    "plt.legend(['Treino', 'Teste'])\n",
    "plt.xlabel('Data')\n",
    "plt.ylabel('Temperatura Máxima (ºC)')\n",
    "plt.title('Variação da Temperatura Máxima')\n",
    "\n",
    "# Configurando os ticks do eixo x para que eles representem apenas os anos presentes nos dados\n",
    "years = mdates.YearLocator()  # Localizador de anos\n",
    "years_fmt = mdates.DateFormatter('%Y')  # Formatador para mostrar apenas o ano\n",
    "plt.gca().xaxis.set_major_locator(years)\n",
    "plt.gca().xaxis.set_major_formatter(years_fmt)\n",
    "\n",
    "# Melhorar a apresentação dos ticks do eixo x para evitar sobreposição\n",
    "plt.gcf().autofmt_xdate()\n",
    "\n",
    "plt.show()"
   ]
  },
  {
   "cell_type": "markdown",
   "id": "70e266c9",
   "metadata": {},
   "source": [
    "tem menos dados entre 2017 - 2018 , isso justifica ser menos \"agressivo\" no começo "
   ]
  },
  {
   "cell_type": "code",
   "execution_count": null,
   "id": "l2FDyazet0hS",
   "metadata": {
    "colab": {
     "base_uri": "https://localhost:8080/"
    },
    "id": "l2FDyazet0hS",
    "outputId": "47a06361-592f-40ae-bae0-4da93a05d66b"
   },
   "outputs": [],
   "source": [
    "\n",
    "# Importando o módulo\n",
    "from pmdarima.arima import auto_arima\n",
    "\n",
    "# Instanciando e aplicando aos dados\n",
    "\n",
    "auto_tmax= auto_arima(temp_treino['TEMP MAX (ºC)'], #Dados\n",
    "                         max_p=10, # Grau máximo de teste do módulo AR,\n",
    "                         max_d=10, # Grau máximo de teste de diferenciação (I)\n",
    "                         max_q=10, # Grau máximo de teste do módulo MA\n",
    "                         trace=True # Para imprimir os resultados dos testes\n",
    "                         )\n",
    "\n",
    "\n"
   ]
  },
  {
   "cell_type": "code",
   "execution_count": null,
   "id": "232f163d",
   "metadata": {
    "colab": {
     "base_uri": "https://localhost:8080/"
    },
    "id": "232f163d",
    "outputId": "5c5a8a3d-09fe-4443-d576-6fffed6429fa"
   },
   "outputs": [],
   "source": [
    "from statsmodels.tsa.arima.model import ARIMA\n",
    "arima_tmax = ARIMA(endog= temp_treino['TEMP MAX (ºC)'],order=(1,0,0)).fit()\n",
    "\n",
    "# ARIMA\n",
    "temp_treino['prev_tmax'] = arima_tmax.predict()\n",
    "temp_teste['prev_tmax'] = arima_tmax.predict(start=temp_treino.index.max(),end=temp_teste.index.max())\n"
   ]
  },
  {
   "cell_type": "code",
   "execution_count": null,
   "id": "TJoD9fFnWPA9",
   "metadata": {
    "colab": {
     "base_uri": "https://localhost:8080/"
    },
    "id": "TJoD9fFnWPA9",
    "outputId": "3e6a0c52-9778-455f-cb0a-0522cbb637d4"
   },
   "outputs": [],
   "source": [
    "print(temp_treino['prev_tmax'])"
   ]
  },
  {
   "cell_type": "code",
   "execution_count": null,
   "id": "JtnEB2_hNjCd",
   "metadata": {
    "colab": {
     "base_uri": "https://localhost:8080/",
     "height": 317
    },
    "id": "JtnEB2_hNjCd",
    "outputId": "daf23580-e987-4087-8f86-a29e7c299062"
   },
   "outputs": [],
   "source": [
    "import matplotlib.pyplot as plt\n",
    "\n",
    "# Construindo gráficos para as previsões no treino e no teste\n",
    "fig, ax = plt.subplots(1,2,figsize=(20,5))\n",
    "temp_treino[['Data']].astype(str), temp_treino[['TEMP MAX (ºC)', 'prev_tmax']].plot(ax=ax[0])\n",
    "temp_teste[['Data']].astype(str), temp_teste[['TEMP MAX (ºC)', 'prev_tmax']].plot(ax=ax[1])\n",
    "ax[0].set_title('Previsões no conjunto de treino',size=16)\n",
    "ax[1].set_title('Previsões no conjunto de Teste',size=16)"
   ]
  },
  {
   "cell_type": "markdown",
   "id": "00e11005",
   "metadata": {},
   "source": [
    "Esse grafico abaixo foi sugerido pelo chatgpt"
   ]
  },
  {
   "cell_type": "code",
   "execution_count": null,
   "id": "0ba7b71c",
   "metadata": {},
   "outputs": [],
   "source": [
    "# Construindo gráficos para as previsões no treino e no teste\n",
    "fig, ax = plt.subplots(1, 2, figsize=(20, 5))\n",
    "\n",
    "# Plotando treino\n",
    "ax[0].plot(temp_treino['Data'], temp_treino['TEMP MAX (ºC)'], label='TEMP MAX (ºC)', color='blue')\n",
    "ax[0].plot(temp_treino['Data'], temp_treino['prev_tmax'], label='prev_tmax', color='orange')\n",
    "ax[0].set_title('Previsões no conjunto de treino', size=16)\n",
    "\n",
    "# Plotando teste\n",
    "ax[1].plot(temp_teste['Data'], temp_teste['TEMP MAX (ºC)'], label='TEMP MAX (ºC)', color='blue')\n",
    "ax[1].plot(temp_teste['Data'], temp_teste['prev_tmax'], label='prev_tmax', color='orange')\n",
    "ax[1].set_title('Previsões no conjunto de Teste', size=16)\n",
    "\n",
    "# Configurando as legendas\n",
    "ax[0].legend()\n",
    "ax[1].legend()\n",
    "\n",
    "# Melhorar a apresentação dos ticks do eixo x para evitar sobreposição\n",
    "plt.gcf().autofmt_xdate()\n",
    "\n",
    "plt.show()"
   ]
  },
  {
   "cell_type": "markdown",
   "id": "c9499bd8",
   "metadata": {
    "id": "JYJTLlmwGGAE"
   },
   "source": [
    "# Series Temporais dados de Pesca"
   ]
  },
  {
   "cell_type": "code",
   "execution_count": null,
   "id": "8375561e",
   "metadata": {},
   "outputs": [],
   "source": [
    "df_pesca=pd.read_csv('pescado_nov.csv')\n",
    "print(df_pesca.shape)\n",
    "df_pesca.head()"
   ]
  },
  {
   "cell_type": "code",
   "execution_count": null,
   "id": "a5b134d8",
   "metadata": {},
   "outputs": [],
   "source": [
    "df_pesca.drop(['Pescado','Município'],axis=1,inplace=True)\n",
    "df_pesca.head()"
   ]
  },
  {
   "cell_type": "code",
   "execution_count": null,
   "id": "df316d9f",
   "metadata": {},
   "outputs": [],
   "source": [
    "def monetario_para_float(valor_monetario):\n",
    "    try:\n",
    "        # Remove caracteres não numéricos\n",
    "        valor_limpo = valor_monetario.replace('R$ ', '').replace('.', '').replace(',', '.').strip()\n",
    "        # Converte para float\n",
    "        valor_float = float(valor_limpo)\n",
    "        return valor_float\n",
    "    except ValueError:\n",
    "        return None  # Retorne None se houver um erro na conversão\n",
    "\n",
    "# Aplicar a função à coluna 'valor estimado no período' do DataFrame 'pescado'\n",
    "df_pesca['valor estimado no período'] = df_pesca['valor estimado no período'].apply(monetario_para_float)\n",
    "\n",
    "# Imprimir o DataFrame com os valores convertidos\n",
    "df_pesca\n"
   ]
  },
  {
   "cell_type": "code",
   "execution_count": null,
   "id": "cd1dddb6",
   "metadata": {},
   "outputs": [],
   "source": [
    "# Adding a new column 'Data' by joining 'Ano' and 'Mês'\n",
    "df_pesca['Data'] = df_pesca['Ano'].astype(str) + '-' + df_pesca['Mês'].astype(str).str.zfill(2)\n",
    "\n",
    "# Grouping by 'Data' and 'Tipo de Pesca'\n",
    "grouped_df = df_pesca.groupby(['Data', 'Tipo de Pesca']).sum().reset_index()\n",
    "\n",
    "grouped_df.drop(['Ano','Mês'],inplace=True,axis=1)\n",
    "\n",
    "print(grouped_df.shape)\n",
    "grouped_df"
   ]
  },
  {
   "cell_type": "code",
   "execution_count": null,
   "id": "f059431c",
   "metadata": {},
   "outputs": [],
   "source": [
    "from statsmodels.tsa.stattools import adfuller\n",
    "\n",
    "# Convertendo 'Data' para datetime e definindo como índice\n",
    "grouped_df['Data'] = pd.to_datetime(grouped_df['Data'])\n",
    "grouped_df.set_index('Data', inplace=True)\n",
    "\n",
    "# Separando os dados em dois DataFrames, um para cada tipo de pesca\n",
    "df_artesanal = grouped_df[grouped_df['Tipo de Pesca'] == 'Artesanal'].drop('Tipo de Pesca', axis=1)\n",
    "df_industrial = grouped_df[grouped_df['Tipo de Pesca'] == 'Industrial'].drop('Tipo de Pesca', axis=1)\n",
    "\n"
   ]
  },
  {
   "cell_type": "markdown",
   "id": "87ff5178",
   "metadata": {},
   "source": [
    "CHATGPT4\n",
    "\n",
    "Verificação de Estacionariedade: O modelo ARIMA requer que a série temporal seja estacionária. Utilize o teste Dickey-Fuller aumentado ou outros métodos para verificar a estacionariedade."
   ]
  },
  {
   "cell_type": "code",
   "execution_count": null,
   "id": "9ec5f6f7",
   "metadata": {},
   "outputs": [],
   "source": [
    "# Verificando estacionariedade (usando o teste Dickey-Fuller aumentado)\n",
    "def test_stationarity(timeseries):\n",
    "    result = adfuller(timeseries, autolag='AIC')\n",
    "    p_value = result[1]\n",
    "    return p_value\n",
    "\n",
    "p_value_artesanal = test_stationarity(df_artesanal['valor estimado no período'])\n",
    "p_value_industrial = test_stationarity(df_industrial['valor estimado no período'])\n",
    "\n",
    "(p_value_artesanal, p_value_industrial)"
   ]
  },
  {
   "cell_type": "markdown",
   "id": "2e94f316",
   "metadata": {},
   "source": [
    "ChatGPT4\n",
    "\n",
    "\n",
    "Os resultados dos valores-p obtidos a partir do teste Dickey-Fuller aumentado para as séries temporais de pesca artesanal e industrial têm implicações importantes quanto à estacionariedade dessas séries:\n",
    "\n",
    "Pesca Artsanal (valor-p = 0.467): Este valor-p é maior que o limiar comum de 0.05, indicando que não podemos rejeitar a hipótese nula de que a série possui uma raiz unitária. Em termos simples, isso significa que a série temporal da pesca artesanal não é estacionária. Séries não estacionárias podem ter propriedades estatísticas (como média e variância) que mudam ao longo do tempo, o que pode afetar a análise e a previsão.\n",
    "\n",
    "Pesca Industrial (valor-p ≈ 5.91e-13): Este valor-p é significativamente menor que 0.05, o que nos permite rejeitar a hipótese nula de uma raiz unitária. Portanto, concluímos que a série temporal da pesca industrial é estacionária. Uma série estacionária tem propriedades estatísticas que são constantes ao longo do tempo, o que a torna mais adequada para análise e modelagem, como com modelos ARIMA.\n",
    "\n",
    "Implicações para Análise de Séries Temporais:\n",
    "Para a pesca artesanal, será necessário aplicar técnicas como diferenciação ou transformações logarítmicas para tornar a série estacionária antes de ajustar um modelo de série temporal como o ARIMA.\n",
    "\n",
    "Para a pesca industrial, a série já é estacionária, então podemos prosseguir com a modelagem de séries temporais sem a necessidade de diferenciação ou outras transformações para alcançar estacionariedade.\n",
    "\n",
    "Essa etapa é crucial para garantir a adequação e precisão dos modelos de séries temporais.\n",
    "\n"
   ]
  },
  {
   "cell_type": "code",
   "execution_count": null,
   "id": "dbaf0fd9",
   "metadata": {},
   "outputs": [],
   "source": [
    "from sklearn.model_selection import train_test_split\n",
    "\n",
    "train_artesanal, test_artesanal = train_test_split(df_artesanal, test_size=0.2, shuffle=False)\n",
    "train_industrial, test_industrial = train_test_split(df_industrial, test_size=0.2, shuffle=False)\n",
    "\n",
    "(train_artesanal, test_artesanal, train_industrial, test_industrial)"
   ]
  },
  {
   "cell_type": "markdown",
   "id": "db845c26",
   "metadata": {},
   "source": [
    "ChatGPT\n",
    "Para encontrar os melhores valores dos parâmetros p, d e q para os modelos ARIMA das suas séries temporais – uma para a pesca artesanal e outra para a pesca industrial (após diferenciação) – podemos usar a função auto_arima da biblioteca pmdarima. Esta função automatiza o processo de seleção de modelos ARIMA, testando diferentes combinações de p, d e q e escolhendo a que melhor se adequa aos dados com base em um critério de informação, como o AIC (Critério de Informação de Akaike)."
   ]
  },
  {
   "cell_type": "code",
   "execution_count": null,
   "id": "eea236b3",
   "metadata": {},
   "outputs": [],
   "source": [
    "# Ajustando o modelo ARIMA para pesca industrial com diferenciação\n",
    "# Diferenciando a série para torná-la estacionária\n",
    "df_industrial_diff = df_industrial.diff().dropna()\n",
    "\n",
    "\n",
    "# Encontrando os melhores parâmetros para o modelo ARIMA da pesca artesanal\n",
    "auto_model_artesanal = auto_arima(df_artesanal['valor estimado no período'], \n",
    "                                  seasonal=False, \n",
    "                                  trace=True,\n",
    "                                  error_action='ignore', \n",
    "                                  suppress_warnings=True)\n",
    "\n",
    "# Encontrando os melhores parâmetros para o modelo ARIMA da pesca industrial (diferenciada)\n",
    "auto_model_industrial = auto_arima(df_industrial_diff['valor estimado no período'], \n",
    "                                   seasonal=False, \n",
    "                                   trace=True,\n",
    "                                   error_action='ignore', \n",
    "                                   suppress_warnings=True)\n",
    "\n",
    "# Melhores parâmetros encontrados para cada tipo de pesca\n",
    "best_fit_artesanal = auto_model_artesanal.order\n",
    "best_fit_industrial = auto_model_industrial.order"
   ]
  },
  {
   "cell_type": "code",
   "execution_count": null,
   "id": "cc81bbcf",
   "metadata": {},
   "outputs": [],
   "source": [
    "# Para a pesca artesanal\n",
    "model_artesanal = ARIMA(df_artesanal['valor estimado no período'], order=best_fit_artesanal)\n",
    "results_artesanal = model_artesanal.fit()\n",
    "summary_artesanal = results_artesanal.summary()\n",
    "print(summary_artesanal)\n",
    "print('-'*100)\n",
    "print('-'*100)\n",
    "print('-'*100)\n",
    "# Para a pesca industrial (diferenciada)\n",
    "model_industrial = ARIMA(df_industrial_diff['valor estimado no período'], order=best_fit_industrial)\n",
    "results_industrial = model_industrial.fit()\n",
    "summary_industrial = results_industrial.summary()\n",
    "print(summary_industrial)\n"
   ]
  },
  {
   "cell_type": "code",
   "execution_count": null,
   "id": "d0e461bc",
   "metadata": {},
   "outputs": [],
   "source": [
    "# Fazendo previsões para o intervalo de teste\n",
    "start_artesanal = test_artesanal.index[0]\n",
    "end_artesanal = test_artesanal.index[-1]\n",
    "\n",
    "start_industrial = test_industrial.index[1]  # Começando do segundo ponto devido à diferenciação\n",
    "end_industrial = test_industrial.index[-1]\n",
    "\n",
    "predictions_artesanal = results_artesanal.predict(start=start_artesanal, end=end_artesanal)\n",
    "predictions_industrial_diff = results_industrial.predict(start=start_industrial, end=end_industrial)\n",
    "\n",
    "# Revertendo a diferenciação para previsões industriais\n",
    "last_train_value = train_industrial['valor estimado no período'].iloc[-1]\n",
    "predictions_industrial = last_train_value + predictions_industrial_diff.cumsum()\n",
    "\n",
    "# Plotando os gráficos de comparação\n",
    "fig, axes = plt.subplots(nrows=2, ncols=1, figsize=(12, 8))\n",
    "\n",
    "# Pesca Artesanal\n",
    "axes[0].plot(train_artesanal['valor estimado no período'], label='Treino (Artesanal)')\n",
    "axes[0].plot(test_artesanal['valor estimado no período'], label='Teste Real (Artesanal)')\n",
    "axes[0].plot(predictions_artesanal, label='Previsões (Artesanal)', linestyle='--')\n",
    "axes[0].set_title('Previsões vs Real - Pesca Artesanal')\n",
    "axes[0].legend()\n",
    "\n",
    "# Pesca Industrial\n",
    "axes[1].plot(train_industrial['valor estimado no período'], label='Treino (Industrial)')\n",
    "axes[1].plot(test_industrial['valor estimado no período'], label='Teste Real (Industrial)')\n",
    "axes[1].plot(predictions_industrial, label='Previsões (Industrial)', linestyle='--')\n",
    "axes[1].set_title('Previsões vs Real - Pesca Industrial')\n",
    "axes[1].legend()\n",
    "\n",
    "plt.tight_layout()\n",
    "plt.show()"
   ]
  },
  {
   "cell_type": "code",
   "execution_count": null,
   "id": "5c6215ae",
   "metadata": {},
   "outputs": [],
   "source": []
  }
 ],
 "metadata": {
  "colab": {
   "provenance": []
  },
  "kernelspec": {
   "display_name": "Python 3 (ipykernel)",
   "language": "python",
   "name": "python3"
  },
  "language_info": {
   "codemirror_mode": {
    "name": "ipython",
    "version": 3
   },
   "file_extension": ".py",
   "mimetype": "text/x-python",
   "name": "python",
   "nbconvert_exporter": "python",
   "pygments_lexer": "ipython3",
   "version": "3.9.13"
  }
 },
 "nbformat": 4,
 "nbformat_minor": 5
}
